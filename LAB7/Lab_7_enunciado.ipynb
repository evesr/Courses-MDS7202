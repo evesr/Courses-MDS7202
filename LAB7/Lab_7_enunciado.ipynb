{
  "cells": [
    {
      "cell_type": "markdown",
      "metadata": {
        "id": "_Tgm8mCA9Dp3"
      },
      "source": [
        "# Laboratorio 7: Clasificación 🤗\n",
        "\n",
        "<center><strong>MDS7202: Laboratorio de Programación Científica para Ciencia de Datos</strong></center>\n"
      ]
    },
    {
      "cell_type": "markdown",
      "metadata": {
        "id": "11Kc_ibM9GXH"
      },
      "source": [
        "### Cuerpo Docente:\n",
        "\n",
        "- Profesores: Ignacio Meza, Sebastián Tinoco\n",
        "- Auxiliares: Catherine Benavides y Consuelo Rojas\n",
        "- Ayudante: Nicolás Ojeda, Eduardo Moya"
      ]
    },
    {
      "cell_type": "markdown",
      "metadata": {
        "id": "u9dUSltr9JrN"
      },
      "source": [
        "### **Equipo:**\n",
        "\n",
        "- Pia Antiquera.\n",
        "- Evelyn Silva.\n",
        "\n",
        "\n"
      ]
    },
    {
      "cell_type": "markdown",
      "metadata": {},
      "source": [
        "### **Link de repositorio de GitHub:** `https://github.com/piaantiquera/Courses-MDS7202.git`"
      ]
    },
    {
      "cell_type": "markdown",
      "metadata": {
        "id": "YBa48PDF9OHw"
      },
      "source": [
        "### Temas a tratar\n",
        "- Clasificación en problemas desbalanceados\n",
        "- Lightgbm y xgboost\n",
        "- Pipelines"
      ]
    },
    {
      "cell_type": "markdown",
      "metadata": {
        "id": "mkhnnMx49Qrh"
      },
      "source": [
        "### Reglas:\n",
        "\n",
        "- **Grupos de 2 personas**\n",
        "- Cualquier duda fuera del horario de clases al foro. Mensajes al equipo docente serán respondidos por este medio.\n",
        "- Prohibidas las copias.\n",
        "- Pueden usar cualquer matrial del curso que estimen conveniente.\n",
        "- Código que no se pueda ejecutar, no será revisado."
      ]
    },
    {
      "cell_type": "markdown",
      "metadata": {
        "id": "sxzJ48Vv8quO"
      },
      "source": [
        "\n",
        "\n",
        "### Objetivos principales del laboratorio\n",
        "- Comprender cómo trabajar con problemas de clasificación con clases desbalanceadas.\n",
        "- Aplicar los modelos lightgbm y xgboost.\n",
        "- Practicar Pipelines"
      ]
    },
    {
      "cell_type": "markdown",
      "metadata": {
        "id": "k-ao0mOU64Ru"
      },
      "source": [
        "# Parte Teórica [12 puntos]\n",
        "\n",
        "\n"
      ]
    },
    {
      "cell_type": "markdown",
      "metadata": {
        "id": "ApXKwPDmxcEV"
      },
      "source": [
        "1. Explique cuál es la diferencia entre los datos de entrenamiento y validación. [1 punto]\n",
        "\n",
        "2. Explique cuál es el principal desafío al trabajar problemas de clasificación con data no supervisada. [1 punto]\n",
        "\n",
        "3. Explique en **sus palabras** qué es la matriz de confusión y para qué se utiliza. [1 puntos]\n",
        "\n",
        "4. Escriba la fórmula de las siguientes métricas y explique con **sus palabras** cómo se interpretan. [1 punto cada uno]\n",
        "\n",
        "  * Accuracy\n",
        "  * Precision\n",
        "  * Recall\n",
        "  * F1 score\n",
        "\n",
        "5. Explique qué métrica recomendaría para los siguientes contextos de clasificación. [1 punto cada uno]\n",
        "\n",
        "  * Mantenimiento predictivo de fallas de maquinaria pesada en la industria minera.  \n",
        "  * Detección de enfermedades altamente contagiosas.\n",
        "  * Aprobación de créditos de alto riesgo.\n",
        "  * Detección de crímenes.\n",
        "\n",
        "6. Explique qué es la calibración de modelos y para qué se usa. [1 punto]\n"
      ]
    },
    {
      "cell_type": "markdown",
      "metadata": {
        "id": "Yy4QMWD8-FPk"
      },
      "source": [
        "**Respuesta:**"
      ]
    },
    {
      "cell_type": "markdown",
      "metadata": {
        "id": "QYFdD1aK-ICa"
      },
      "source": [
        "*Escriba su respuesta aquí*"
      ]
    },
    {
      "cell_type": "markdown",
      "metadata": {
        "id": "Jg_9jBqtgRDO"
      },
      "source": [
        "# Parte práctica [48 puntos]"
      ]
    },
    {
      "cell_type": "markdown",
      "metadata": {
        "id": "slm6yRfdfZwS"
      },
      "source": [
        "<p align=\"center\">\n",
        "  <img src=\"https://drive.google.com/uc?export=view&id=1BnO4tyh3vM2P199Ec9s3JjngQ4qQ9seP\"\n",
        "\" width=\"300\">\n",
        "</p>\n",
        "\n",
        "\n",
        "Tras el trágico despido de la mítica mascota de Maipú, Renacín decide adentrarse como consultor en el mercado futbolero, el cuál (para variar...) está cargado en especulaciones.\n",
        "\n",
        "Como su principal tarea será asesorar a los directivos de los clubes sobre cuál jugador comprar y cuál no, Renacín desea generar modelos predictivos que evaluén distintas características de los jugadores; todo con el fin de tomar decisiones concretas basadas en los datos.\n",
        "\n",
        "Sin embargo, su condición de corporeo le impidió tomar la versión anterior de MDS7202, por lo que este motivo Renacín contrata a su equipo para lograr su objetivo final. Dado que aún tiene fuertes vínculos con la dirección de deportes de la municipalidad, el corporeo le entrega base de datos con las estadísticas de cada jugador para que su equipo empieze a trabajar ya con un dataset listo para ser usado.\n"
      ]
    },
    {
      "cell_type": "markdown",
      "metadata": {
        "id": "jnbx7RwHfkue"
      },
      "source": [
        "**Los Datos**\n",
        "\n",
        "Para este laboratorio deberán trabajar con el csv `statsplayers.csv`, donde deberán aplicar algoritmos de aprendizaje supervisado de clasificación en base a características que describen de jugadores de fútbol.\n",
        "\n",
        "Para comenzar cargue el dataset señalado y a continuación vea el reporte **`Player_Stats_Report.html`** (adjunto en la carpeta del enunciado) que describe las características principales del `DataFrame`."
      ]
    },
    {
      "cell_type": "code",
      "execution_count": 18,
      "metadata": {
        "id": "mX6iwOWUfrp_"
      },
      "outputs": [
        {
          "name": "stdout",
          "output_type": "stream",
          "text": [
            "Ignorando conexión drive-colab\n"
          ]
        }
      ],
      "source": [
        "# Si usted está utilizando Colabolatory le puede ser útil este código para cargar los archivos.\n",
        "try:\n",
        "    from google.colab import drive\n",
        "    drive.mount(\"/content/drive\")\n",
        "    path = 'Dirección donde tiene los archivos en el Drive'\n",
        "except:\n",
        "    print('Ignorando conexión drive-colab')"
      ]
    },
    {
      "cell_type": "code",
      "execution_count": 69,
      "metadata": {},
      "outputs": [
        {
          "name": "stdout",
          "output_type": "stream",
          "text": [
            "Requirement already satisfied: lightgbm in /Users/piaal/anaconda3/lib/python3.11/site-packages (4.3.0)\n",
            "Requirement already satisfied: numpy in /Users/piaal/anaconda3/lib/python3.11/site-packages (from lightgbm) (1.24.4)\n",
            "Requirement already satisfied: scipy in /Users/piaal/anaconda3/lib/python3.11/site-packages (from lightgbm) (1.13.0)\n"
          ]
        }
      ],
      "source": [
        "!pip install --upgrade lightgbm"
      ]
    },
    {
      "cell_type": "code",
      "execution_count": 71,
      "metadata": {},
      "outputs": [
        {
          "name": "stdout",
          "output_type": "stream",
          "text": [
            "Requirement already satisfied: pandas in /Users/piaal/anaconda3/lib/python3.11/site-packages (2.2.2)\n",
            "Requirement already satisfied: numpy>=1.23.2 in /Users/piaal/anaconda3/lib/python3.11/site-packages (from pandas) (1.24.4)\n",
            "Requirement already satisfied: python-dateutil>=2.8.2 in /Users/piaal/anaconda3/lib/python3.11/site-packages (from pandas) (2.8.2)\n",
            "Requirement already satisfied: pytz>=2020.1 in /Users/piaal/anaconda3/lib/python3.11/site-packages (from pandas) (2023.3.post1)\n",
            "Requirement already satisfied: tzdata>=2022.7 in /Users/piaal/anaconda3/lib/python3.11/site-packages (from pandas) (2023.4)\n",
            "Requirement already satisfied: six>=1.5 in /Users/piaal/anaconda3/lib/python3.11/site-packages (from python-dateutil>=2.8.2->pandas) (1.16.0)\n"
          ]
        }
      ],
      "source": [
        "!pip install --upgrade pandas"
      ]
    },
    {
      "cell_type": "code",
      "execution_count": 31,
      "metadata": {},
      "outputs": [
        {
          "name": "stdout",
          "output_type": "stream",
          "text": [
            "Collecting lightgbm\n",
            "  Using cached lightgbm-4.3.0.tar.gz (1.7 MB)\n",
            "  Installing build dependencies ... \u001b[?25ldone\n",
            "\u001b[?25h  Getting requirements to build wheel ... \u001b[?25ldone\n",
            "\u001b[?25h  Installing backend dependencies ... \u001b[?25ldone\n",
            "\u001b[?25h  Preparing metadata (pyproject.toml) ... \u001b[?25ldone\n",
            "\u001b[?25hRequirement already satisfied: numpy in /Users/piaal/anaconda3/lib/python3.11/site-packages (from lightgbm) (1.24.4)\n",
            "Requirement already satisfied: scipy in /Users/piaal/anaconda3/lib/python3.11/site-packages (from lightgbm) (1.13.0)\n",
            "Building wheels for collected packages: lightgbm\n",
            "  Building wheel for lightgbm (pyproject.toml) ... \u001b[?25ldone\n",
            "\u001b[?25h  Created wheel for lightgbm: filename=lightgbm-4.3.0-py3-none-macosx_12_0_arm64.whl size=1389938 sha256=8cc60a0be0afab9a23e5cce67a6e131859dcab46fd2d5c7e43f29ded2b3264a8\n",
            "  Stored in directory: /Users/piaal/Library/Caches/pip/wheels/f4/d1/f4/3cd66516e5a05b0879846879dfb06e5a087f453adb405a5999\n",
            "Successfully built lightgbm\n",
            "Installing collected packages: lightgbm\n",
            "Successfully installed lightgbm-4.3.0\n"
          ]
        }
      ],
      "source": [
        "!pip install lightgbm"
      ]
    },
    {
      "cell_type": "code",
      "execution_count": 73,
      "metadata": {},
      "outputs": [
        {
          "name": "stdout",
          "output_type": "stream",
          "text": [
            "Requirement already satisfied: dask in /Users/piaal/anaconda3/lib/python3.11/site-packages (2.30.0)\n",
            "Collecting dask\n",
            "  Downloading dask-2024.5.1-py3-none-any.whl.metadata (3.8 kB)\n",
            "Requirement already satisfied: click>=8.1 in /Users/piaal/anaconda3/lib/python3.11/site-packages (from dask) (8.1.7)\n",
            "Requirement already satisfied: cloudpickle>=1.5.0 in /Users/piaal/anaconda3/lib/python3.11/site-packages (from dask) (2.2.1)\n",
            "Requirement already satisfied: fsspec>=2021.09.0 in /Users/piaal/anaconda3/lib/python3.11/site-packages (from dask) (2023.9.2)\n",
            "Requirement already satisfied: packaging>=20.0 in /Users/piaal/anaconda3/lib/python3.11/site-packages (from dask) (23.2)\n",
            "Requirement already satisfied: partd>=1.2.0 in /Users/piaal/anaconda3/lib/python3.11/site-packages (from dask) (1.4.1)\n",
            "Requirement already satisfied: pyyaml>=5.3.1 in /Users/piaal/anaconda3/lib/python3.11/site-packages (from dask) (6.0.1)\n",
            "Requirement already satisfied: toolz>=0.10.0 in /Users/piaal/anaconda3/lib/python3.11/site-packages (from dask) (0.12.0)\n",
            "Requirement already satisfied: importlib-metadata>=4.13.0 in /Users/piaal/anaconda3/lib/python3.11/site-packages (from dask) (6.11.0)\n",
            "Requirement already satisfied: zipp>=0.5 in /Users/piaal/anaconda3/lib/python3.11/site-packages (from importlib-metadata>=4.13.0->dask) (3.17.0)\n",
            "Requirement already satisfied: locket in /Users/piaal/anaconda3/lib/python3.11/site-packages (from partd>=1.2.0->dask) (1.0.0)\n",
            "Downloading dask-2024.5.1-py3-none-any.whl (1.2 MB)\n",
            "\u001b[2K   \u001b[90m━━━━━━━━━━━━━━━━━━━━━━━━━━━━━━━━━━━━━━━━\u001b[0m \u001b[32m1.2/1.2 MB\u001b[0m \u001b[31m4.1 MB/s\u001b[0m eta \u001b[36m0:00:00\u001b[0m00:01\u001b[0m00:01\u001b[0m\n",
            "\u001b[?25hInstalling collected packages: dask\n",
            "  Attempting uninstall: dask\n",
            "    Found existing installation: dask 2.30.0\n",
            "    Uninstalling dask-2.30.0:\n",
            "      Successfully uninstalled dask-2.30.0\n",
            "\u001b[31mERROR: pip's dependency resolver does not currently take into account all the packages that are installed. This behaviour is the source of the following dependency conflicts.\n",
            "dataprep 0.4.1 requires dask[array,dataframe,delayed]<3.0,>=2.25, but you have dask 2024.5.1 which is incompatible.\n",
            "dataprep 0.4.1 requires jinja2<3.0,>=2.11, but you have jinja2 3.1.2 which is incompatible.\n",
            "dataprep 0.4.1 requires pandas<2.0,>=1.1, but you have pandas 2.2.2 which is incompatible.\n",
            "dataprep 0.4.1 requires regex<2021.0.0,>=2020.10.15, but you have regex 2024.5.10 which is incompatible.\u001b[0m\u001b[31m\n",
            "\u001b[0mSuccessfully installed dask-2024.5.1\n"
          ]
        }
      ],
      "source": [
        "!pip install --upgrade dask"
      ]
    },
    {
      "cell_type": "code",
      "execution_count": 278,
      "metadata": {},
      "outputs": [],
      "source": [
        "import pandas as pd\n",
        "import numpy as np\n",
        "from sklearn.pipeline import Pipeline\n",
        "from sklearn.compose import ColumnTransformer\n",
        "from sklearn.preprocessing import PowerTransformer\n",
        "from sklearn.preprocessing import OneHotEncoder\n",
        "from sklearn.preprocessing import MinMaxScaler\n",
        "from sklearn.model_selection import train_test_split\n",
        "from sklearn.ensemble import GradientBoostingClassifier\n",
        "import lightgbm as ltb\n",
        "import seaborn as sns\n",
        "import matplotlib.pyplot as plt\n",
        "from sklearn.metrics import f1_score, recall_score, precision_score, accuracy_score, classification_report, confusion_matrix\n",
        "from sklearn.utils.multiclass import unique_labels\n",
        "from sklearn.ensemble import RandomForestClassifier\n",
        "from sklearn.preprocessing import LabelEncoder\n",
        "from sklearn.preprocessing import StandardScaler\n",
        "from sklearn.impute import SimpleImputer\n",
        "import warnings\n",
        "warnings.filterwarnings('ignore')\n"
      ]
    },
    {
      "cell_type": "code",
      "execution_count": 284,
      "metadata": {},
      "outputs": [],
      "source": [
        "# Importacion de datos\n",
        "df = pd.read_csv('stats_players.csv')\n",
        "df2 = df.copy()"
      ]
    },
    {
      "cell_type": "markdown",
      "metadata": {
        "id": "JdcucZhp-M_0"
      },
      "source": [
        "## 1. Predicción de Seleccionados Nacionales [14 puntos]"
      ]
    },
    {
      "cell_type": "markdown",
      "metadata": {
        "id": "HXrewqxjjzvA"
      },
      "source": [
        "<p align=\"center\">\n",
        "  <img src=\"https://www.futuro.cl/wp-content/uploads/2016/06/chile-argentina-meme-12.jpg\" width=\"300\">\n",
        "</p>\n",
        "\n"
      ]
    },
    {
      "cell_type": "markdown",
      "metadata": {
        "id": "Qfre1YsSDqla"
      },
      "source": [
        "### 1.1 Preprocesamiento [5 puntos]"
      ]
    },
    {
      "cell_type": "markdown",
      "metadata": {
        "id": "IR00u4HTDtxv"
      },
      "source": [
        "Tareas:\n",
        "\n",
        "1. Genere los labels para la clasificación binaria en una variable llamada `label`. Para esto, trabaje sobre el atributo `National_Position` suponiendo que los valores nulos son jugadores no seleccionados para representar a su país. [Sin puntaje]\n",
        "\n",
        "2. Hecho esto, ¿cuántos se tienen ejemplos por cada clase? Comente lo que observa. [1 punto]\n",
        "\n",
        "3. Genere un `ColumnTransformer` en donde especifique las transformaciones que hay que realizar para cada columna (por ejemplo StandarScaler, MinMaxScaler, OneHotEncoder, etc...) para que puedan ser utilizadas correctamente por el modelo predictivo y guárdelo una variable llamada `col_transformer`. [2 puntos]\n",
        "\n",
        "4. Comente y justifique las transformaciones elegidas sobre cada una de las variables (para esto utilice el material `Player_Stats_Report.html` que viene en el zip del lab), al igual que las transformaciones aplicadas. [2 puntos]"
      ]
    },
    {
      "cell_type": "markdown",
      "metadata": {
        "id": "tgAk0kbPjEsx"
      },
      "source": [
        "**Respuesta:**"
      ]
    },
    {
      "cell_type": "code",
      "execution_count": 280,
      "metadata": {
        "id": "JhC2sZj9dSI1"
      },
      "outputs": [
        {
          "name": "stdout",
          "output_type": "stream",
          "text": [
            "Cantidad de registros por clase:\n",
            "label\n",
            "0    16513\n",
            "1     1075\n",
            "Name: count, dtype: int64\n",
            "\n",
            "Tipos de datos de las columnas:\n",
            "Name                 object\n",
            "Nationality          object\n",
            "National_Position    object\n",
            "Club_Position        object\n",
            "Height                int64\n",
            "Weight                int64\n",
            "Preffered_Foot       object\n",
            "Age                   int64\n",
            "Work_Rate            object\n",
            "Weak_foot             int64\n",
            "Skill_Moves           int64\n",
            "Ball_Control          int64\n",
            "Dribbling             int64\n",
            "Marking               int64\n",
            "Sliding_Tackle        int64\n",
            "Standing_Tackle       int64\n",
            "Aggression            int64\n",
            "Reactions             int64\n",
            "Interceptions         int64\n",
            "Vision                int64\n",
            "Composure             int64\n",
            "Crossing              int64\n",
            "Short_Pass            int64\n",
            "Long_Pass             int64\n",
            "Acceleration          int64\n",
            "Speed                 int64\n",
            "Stamina               int64\n",
            "Strength              int64\n",
            "Balance               int64\n",
            "Agility               int64\n",
            "Jumping               int64\n",
            "Heading               int64\n",
            "Shot_Power            int64\n",
            "Finishing             int64\n",
            "Long_Shots            int64\n",
            "Curve                 int64\n",
            "Freekick_Accuracy     int64\n",
            "Penalties             int64\n",
            "Volleys               int64\n",
            "label                 int64\n",
            "dtype: object\n"
          ]
        }
      ],
      "source": [
        "# ----------------------------------------------------------------------------------------------------------------------------\n",
        "# 1. Generacion de etiquetas\n",
        "df['label'] = df['National_Position'].apply(lambda x: 1 if pd.notnull(x) else 0)\n",
        "\n",
        "# ----------------------------------------------------------------------------------------------------------------------------\n",
        "# 2. Conteo de registros por clase\n",
        "count_per_label = df['label'].value_counts()\n",
        "print(\"Cantidad de registros por clase:\")\n",
        "print(count_per_label)\n",
        "\n",
        "# ----------------------------------------------------------------------------------------------------------------------------\n",
        "# 3. Generación de ColumnTransformer\n",
        "tipos_de_datos = df.dtypes\n",
        "print(\"\\nTipos de datos de las columnas:\")\n",
        "print(tipos_de_datos)\n",
        "\n",
        "df.reset_index(drop=True, inplace=True)\n",
        "\n",
        "# Separar características y etiqueta\n",
        "y = df['label']\n",
        "df = df.drop(columns=['label', 'National_Position', 'Name'])\n",
        "\n",
        "cols_to_scale_and_norm = ['Height', 'Weight','Age', 'Ball_Control', 'Dribbling', 'Marking', 'Sliding_Tackle', 'Standing_Tackle', 'Aggression', 'Reactions', 'Interceptions', \n",
        "                'Vision', 'Composure', 'Crossing', 'Short_Pass', 'Long_Pass', 'Acceleration', 'Speed', 'Stamina', 'Strength',\n",
        "                  'Balance', 'Agility', 'Jumping', 'Heading', 'Shot_Power', 'Finishing', 'Long_Shots', 'Curve', 'Freekick_Accuracy', \n",
        "                    'Penalties', 'Volleys' ]\n",
        "cols_to_code = ['Nationality', 'Preffered_Foot', 'Club_Position', 'Work_Rate', 'Weak_foot', 'Skill_Moves']\n",
        "cols_to_ord = ['Skill_Moves', 'Weak_foot', 'Ball_Control']      \n",
        "    \n",
        "column_transformer = ColumnTransformer(\n",
        "    transformers=[ \n",
        "        ('to_scale', StandardScaler(), cols_to_scale_and_norm ),\n",
        "        ('to_norm', PowerTransformer(), cols_to_scale_and_norm),\n",
        "        ('no-code', OneHotEncoder(handle_unknown='ignore'), cols_to_code)\n",
        "    ], remainder='passthrough'\n",
        ")"
      ]
    },
    {
      "cell_type": "markdown",
      "metadata": {},
      "source": [
        "```\n",
        "2. A partir de la cantidad de registros por clase, notamos que se tiene un evidente desbalance de clases dado que aproximadamente el 93% de los datos corresponde a la variable 0 (No esta asociado a una posición en un equipo nacional). Lo anterior, es \n",
        "\n",
        "4. Para las transformaciones realizadas, se tuvieron las siguientes consideraciones:\n",
        "- Las columnas en 'cols_to_esc' corresponden a aquellas columnas númericas que tienen valores en escalas o rangos de valores distintos entre sí. \n",
        "- Las columnas en 'cols_to_norm' corresponden a aquellas columnas númericas que presentan una distribución de valores distinta a la distribución normal.\n",
        "- Las columnas en 'cols_to_code' corresponden a aquellas columnas categóricas de tipo object que requieren ser codificadas a tipo númerico para que puedan ser interpretadas por los modelos que se van a implementar.\n",
        "- También se consideran 'cols_to_ord' corresponden a aquellas columnas categóricas de tipo object donde sus categorías representan algún tipo de ''orden'' inherente o jerarquía en sus categorias lo que le podría otorgar una información adicional al modelo.\n",
        "\n",
        "Algunas columnas no se consideran en ningun paso de colum_transformer tales como la columna label (dado que es una variable binaria), y la columna 'Name' (dado que la cantidad de valores unicas provoca que tenga un comportamiento similar a un ID, por lo que no entrega nueva información al modelo).\n",
        "\n",
        "Por otro lado, solo la columna 'National_Position' tiene una cantidad significativa de valores nulos, sin embargo, no es necesario considerar una transformación como ('imputer', SimpleImputer(strategy='constant', fill_value='No tiene')) dado que posteriormente esta columna no es util por la creación de la nueva columna 'label'.\n",
        "\n",
        "En relación a las demás columnas, no se observan cantidad de registros nulos o atípicos significativo como para requerir una transformación específica en este aspecto.\n",
        "\n",
        "```\n"
      ]
    },
    {
      "cell_type": "markdown",
      "metadata": {
        "id": "Bv1HOfcNEPF4"
      },
      "source": [
        "### 1.2 Entrenamiento [3 puntos]"
      ]
    },
    {
      "cell_type": "markdown",
      "metadata": {
        "id": "whPkuXTUBvB0"
      },
      "source": [
        "Ahora, vamos a entrenar los pipelines generados en los pasos anteriores. Para esto, debe realizar las siguientes tareas:\n",
        "\n",
        "1. Separe los datos de entrenamiento en un conjunto de entrenamiento y de prueba  (la proporción queda a su juicio). En este paso, seleccione los ejemplos de forma aleatoria e intente mantener la distribución original de labels de cada clase en los conjuntos de prueba/entrenamiento. (vea la documentación de `train_test_split`). [1 puntos]\n",
        "\n",
        "\n",
        "2. Defina un pipeline llamado `pipeline_xgboost` y otro llamado `pipeline_lightgbm`. Estos pipelines deben tener el mismo ColumnTransformer definido en la sección de preprocesamiento, pero deben variar los clasificadores de acuerdo al nombre de cada pipeline. [1 puntos]\n",
        "\n",
        "3. Entrene los pipelines. [1 punto]\n",
        "\n"
      ]
    },
    {
      "cell_type": "markdown",
      "metadata": {
        "id": "kbadONFtjGnE"
      },
      "source": [
        "**Respuesta:**"
      ]
    },
    {
      "cell_type": "code",
      "execution_count": 281,
      "metadata": {
        "id": "lLtlXGTPdWAV"
      },
      "outputs": [
        {
          "name": "stdout",
          "output_type": "stream",
          "text": [
            "[LightGBM] [Info] Number of positive: 752, number of negative: 11559\n",
            "[LightGBM] [Info] Auto-choosing row-wise multi-threading, the overhead of testing was 0.000903 seconds.\n",
            "You can set `force_row_wise=true` to remove the overhead.\n",
            "And if memory is not enough, you can set `force_col_wise=true`.\n",
            "[LightGBM] [Info] Total Bins 5110\n",
            "[LightGBM] [Info] Number of data points in the train set: 12311, number of used features: 179\n",
            "[LightGBM] [Info] [binary:BoostFromScore]: pavg=0.061084 -> initscore=-2.732483\n",
            "[LightGBM] [Info] Start training from score -2.732483\n"
          ]
        }
      ],
      "source": [
        "# ----------------------------------------------------------------------------------------------------------------------------\n",
        "# 1. Separación en subconjuntos de entrenamiento y testeo.\n",
        "df.reset_index(drop=True)\n",
        "# El parámetro stratify permite que las proporciones de las clases en el conjunto de datos original se mantenga en los subconjuntos de entrenamiento y testeo.\n",
        "X_train, X_test, y_train, y_test = train_test_split(df,y, test_size=0.3, random_state=0, stratify=y)\n",
        "\n",
        "# ----------------------------------------------------------------------------------------------------------------------------\n",
        "# 2. Definicion de pipelines\n",
        "pipeline_xgboost = Pipeline([('column_transformer', column_transformer), ('clf', GradientBoostingClassifier())])\n",
        "pipeline_lightbm = Pipeline([('column_transformer', column_transformer),('clf', ltb.LGBMClassifier())])\n",
        "\n",
        "# ----------------------------------------------------------------------------------------------------------------------------\n",
        "# 3. Entrenamiento de pipelines\n",
        "# Pipeline XGBOOST\n",
        "xgboost_fit = pipeline_xgboost.fit(X_train, y_train)\n",
        "xgboost_predict = xgboost_fit.predict(X_test)\n",
        "\n",
        "# Pipeline XGBOOST\n",
        "lgbm_fit = pipeline_lightbm.fit(X_train, y_train)\n",
        "lgbm_predict = lgbm_fit.predict(X_test)\n"
      ]
    },
    {
      "cell_type": "markdown",
      "metadata": {
        "id": "poc9HSNBFeKO"
      },
      "source": [
        "### 1.3 Resultados [6 puntos]"
      ]
    },
    {
      "cell_type": "markdown",
      "metadata": {
        "id": "tGGCj8YtFil1"
      },
      "source": [
        "1. Calcule las métricas accuracy, precisión y recall de la clase positiva (la que indica que un jugador es seleccionado nacional) para evaluar el rendimiento de los distintos modelos. Verifique sus resultados usando `classification_report`. [2 puntos]\n",
        "\n",
        "2. Explique qué implican los valores de accuracy, precisión y recall de la clase positiva (la que indica que un jugador es seleccionado nacional) y cómo influye la cantidad de ejemplos por clase en los resultados obtenidos. [2 puntos]\n",
        "\n",
        "3. Explique qué métrica le parece más adecuada y concluya qué modelo tiene un mejor desempeño. [2 puntos]"
      ]
    },
    {
      "cell_type": "markdown",
      "metadata": {
        "id": "A1hkVFdujJTi"
      },
      "source": [
        "**Respuesta:**"
      ]
    },
    {
      "cell_type": "code",
      "execution_count": 282,
      "metadata": {
        "id": "QNmI_tbbdQte"
      },
      "outputs": [
        {
          "name": "stdout",
          "output_type": "stream",
          "text": [
            "XGBOOST - Precision: 0.68\n",
            "XGBOOST - Recall: 0.25\n",
            "XGBOOST - Accuracy: 0.95\n",
            "REPORT METRICS XGBOOST \n",
            "\n",
            "              precision    recall  f1-score   support\n",
            "\n",
            "           0       0.95      0.99      0.97      4954\n",
            "           1       0.68      0.25      0.37       323\n",
            "\n",
            "    accuracy                           0.95      5277\n",
            "   macro avg       0.82      0.62      0.67      5277\n",
            "weighted avg       0.94      0.95      0.94      5277\n",
            "\n",
            "LightGBM - Precision: 0.69\n",
            "LightGBM - Recall: 0.37\n",
            "LightGBM - Accuracy: 0.95\n",
            "REPORT METRICS LIGHTBM \n",
            "\n",
            "              precision    recall  f1-score   support\n",
            "\n",
            "           0       0.96      0.99      0.97      4954\n",
            "           1       0.69      0.37      0.48       323\n",
            "\n",
            "    accuracy                           0.95      5277\n",
            "   macro avg       0.82      0.68      0.73      5277\n",
            "weighted avg       0.94      0.95      0.94      5277\n",
            "\n"
          ]
        },
        {
          "data": {
            "image/png": "[encoded data removed]",
            "text/plain": [
              "<Figure size 640x480 with 2 Axes>"
            ]
          },
          "metadata": {},
          "output_type": "display_data"
        },
        {
          "data": {
            "image/png": "[encoded data removed]",
            "text/plain": [
              "<Figure size 640x480 with 2 Axes>"
            ]
          },
          "metadata": {},
          "output_type": "display_data"
        }
      ],
      "source": [
        "# ----------------------------------------------------------------------------------------------------------------------------\n",
        "# 1. Cálculo de métricas y verificación\n",
        "# Calcular métricas para XGBOOST\n",
        "accuracy_xgb = accuracy_score(y_test, xgboost_predict)\n",
        "precision_xgb = precision_score(y_test, xgboost_predict, pos_label=1) \n",
        "recall_xgb = recall_score(y_test, xgboost_predict, pos_label=1)\n",
        "\n",
        "print(f\"XGBOOST - Precision: {precision_xgb:.2f}\")\n",
        "print(f\"XGBOOST - Recall: {recall_xgb:.2f}\")\n",
        "print(f\"XGBOOST - Accuracy: {accuracy_xgb:.2f}\")\n",
        "\n",
        "print('REPORT METRICS XGBOOST \\n')\n",
        "print(classification_report(y_test, xgboost_predict))\n",
        "\n",
        "# Calcular métricas para LightGBM\n",
        "accuracy_lgbm = accuracy_score(y_test, lgbm_predict)\n",
        "precision_lgbm = precision_score(y_test, lgbm_predict, pos_label=1) \n",
        "recall_lgbm = recall_score(y_test, lgbm_predict, pos_label=1)\n",
        "\n",
        "\n",
        "print(f\"LightGBM - Precision: {precision_lgbm:.2f}\")\n",
        "print(f\"LightGBM - Recall: {recall_lgbm:.2f}\")\n",
        "print(f\"LightGBM - Accuracy: {accuracy_lgbm:.2f}\")\n",
        "\n",
        "print('REPORT METRICS LIGHTBM \\n')\n",
        "print(classification_report(y_test, lgbm_predict))\n",
        "\n",
        "# ----------------------------------------------------------------------------------------------------------------------------\n",
        "# Además, también se incluyen las respectivas matrices de confusión para cada uno de los modelos para permitir una mejor interpretación de sus resultados.\n",
        "xgboost_matrix = confusion_matrix(y_test, xgboost_predict, normalize='true')\n",
        "classes_xgboost = unique_labels(y_test, xgboost_predict)\n",
        "df_xgboost = pd.DataFrame(xgboost_matrix, index=classes_xgboost, columns=classes_xgboost)\n",
        "map = sns.heatmap(df_xgboost, annot=True, cmap=\"Blues\")\n",
        "map.set_yticklabels(map.get_yticklabels(), rotation=0)\n",
        "plt.title('CONFUSION MATRIX XGBOOST \\n', fontweight='bold')\n",
        "plt.xlabel('PREDICTED CLASS', fontweight='bold')\n",
        "plt.ylabel('REAL CLASS', fontweight='bold')\n",
        "plt.autoscale()\n",
        "plt.show()\n",
        "\n",
        "\n",
        "\n",
        "lgbm_matrix = confusion_matrix(y_test, lgbm_predict, normalize='true')\n",
        "classes_lgbm = unique_labels(y_test, lgbm_predict)\n",
        "df_lgbm = pd.DataFrame(lgbm_matrix, index=classes_lgbm, columns=classes_lgbm)\n",
        "map = sns.heatmap(df_lgbm, annot=True, cmap=\"Blues\")\n",
        "map.set_yticklabels(map.get_yticklabels(), rotation=0)\n",
        "plt.title('CONFUSION MATRIX LIGHTGBM \\n', fontweight='bold')\n",
        "plt.xlabel('PREDICTED CLASS', fontweight='bold')\n",
        "plt.ylabel('TRUE CLASS', fontweight='bold')\n",
        "plt.autoscale()\n",
        "plt.show()"
      ]
    },
    {
      "cell_type": "markdown",
      "metadata": {},
      "source": [
        "```\n",
        "2. Para la clase positiva, se tiene:\n",
        "- Un alto exactitud (accuracy) indica que el modelo esta clasificando correctamente las clases cuando la data esta balanceada.\n",
        "- Una alta precisión indica que, de los jugadores que el modelo clasifica como seleccionados nacionales, la mayoría realmente lo son.\n",
        "- Una alta sensibilidad (recall) indica una alta proporción de verdaderos positivos para la clase de seleccionados.\n",
        "\n",
        "3. En este caso, para definir la métrica mas adecuada sabemos que la exactitud no es la mejor considerando que existe un desbalance considerable en las clases, por lo tanto no es una representación fiel del rendimiento del modelo. Por otro lado, en relación a la precisión y sensibilidad, la mas adecuada se puede definir en relación a \"que es lo que importa mas\"  en el contexto de la clasificación, si un falso positivo o un falso negativo.\n",
        "\n",
        "Por un lado, un falso positivo corresponde a cuando un jugador que es clasificado como seleccionado en realidad no lo es, lo que podría conllevar a costos por este error ante la probabilidad de 'considerar' a un jugador como seleccionado cuando en realidad no estaba preparado.\n",
        "\n",
        "Por otro lado, falso negativo por otro lado, corresponde a cuando un jugador que no es clasificado como seleccionado en realidad si lo era, lo que igualmente podría conllevar a costos por este error ante la probabilidad de ''desaprovechar'' el potencial del jugador como seleccionado.\n",
        "\n",
        "En este caso, podriamos decir asumir sería mas costoso para el equipo si no incluye a un jugador de calidad (seleccionado), por lo tanto nos importaría mas clasificar como seleccionado a aquellos que realmente son seleccionados, por lo tanto, la sensibilidad resultaria como una métrica adecuada. \n",
        "\n",
        "Sin embargo, en general, bueno considerar el f1-score como un ''trade-off'' entre estas dos métricas como un mejor reflejo del rendimiento del modelo.\n",
        "\n",
        "Considerando esto, se podría determinar que el modelo con **LightGBM** dado que tiene un mayor recall para la clase 'seleccionado'.\n",
        "\n",
        "```\n"
      ]
    },
    {
      "cell_type": "markdown",
      "metadata": {
        "id": "uy5VMU6ae_g6"
      },
      "source": [
        "## 2. Predicción de posiciones de jugadores [4 puntos]"
      ]
    },
    {
      "cell_type": "markdown",
      "metadata": {
        "id": "S0PGg_hLgr4H"
      },
      "source": [
        "<p align=\"center\">\n",
        "  <img src=\"https://pbs.twimg.com/media/E1rfA1aWEAYU6Ny.jpg\" width=\"300\">\n",
        "</p>"
      ]
    },
    {
      "cell_type": "markdown",
      "metadata": {
        "id": "I6rSnAesfOm3"
      },
      "source": [
        "En una nueva jornada de desmesuradas transacciones deportivas, Renacín escuchó a sus colegas discutir acerca de que el precio de cada jugador depende en gran medida de la posición en la cancha en la que juega. Y además, que hay bastantes jugadores nuevos que no tienen muy claro en que posición verdaderamente brillarían, por lo que actualmente puede que actualmente estén jugando en posiciones sub-optimas.\n",
        "\n",
        "Viendo que los resultados del primer análisis no son tan esperanzadores, el corporeo los comanda a cambiar su tarea: ahora, les solicita que construyan un clasificador enfocado en predecir la mejor posición de los jugadores en la cancha según sus características.\n",
        "\n",
        "Para lograr esto, primero, les pide que etiqueten de la siguiente manera los valores que aparecen en el atributo `Club_Position`, pidiendo que agrupen los valores en los siguientes grupos:\n",
        "\n",
        "**Nota**:  Renacín les recalca que **no deben utilizar los valores ```Sub``` y ```Res``` de esta columna**.\n",
        "\n",
        "```python\n",
        "ataque = ['ST', 'CF']\n",
        "central_ataque = ['RW', 'CAM', 'LW']\n",
        "central = ['RM', 'CM', 'LM']\n",
        "central_defensa = ['RWB', 'CDM', 'LWB']\n",
        "defensa = ['RB', 'CB', 'LB']\n",
        "arquero = ['GK']\n",
        "```\n",
        "\n",
        "La elección del clasificador se justificar en base a la siguiente [guía](https://scikit-learn.org/stable/tutorial/machine_learning_map/index.html) y se deben comentar los resultados obtenidos en la clasificación.\n",
        "\n",
        "**Tareas:** [1 punto por tarea]\n",
        "\n",
        "1. Aplique las etiquetas descritas anteriormente en cada uno de los valores señalados en esta sección.\n",
        "2. Cuente cuántos por clase quedan.\n",
        "3. Entrene el nuevo pipeline y ejecute una evaluación de este.  \n",
        "4. Comente los resultados obtenidos."
      ]
    },
    {
      "cell_type": "markdown",
      "metadata": {
        "id": "sBmSaWh8i2MI"
      },
      "source": [
        "**Respuesta:**"
      ]
    },
    {
      "cell_type": "code",
      "execution_count": 288,
      "metadata": {
        "id": "Ir_7zMh2i1vg"
      },
      "outputs": [
        {
          "name": "stdout",
          "output_type": "stream",
          "text": [
            "\n",
            "Conteo de valores por clase en la columna 'Posicion':\n",
            "Posicion\n",
            "defensa            1180\n",
            "central             907\n",
            "arquero             632\n",
            "central_ataque      581\n",
            "ataque              430\n",
            "central_defensa     209\n",
            "Name: count, dtype: int64\n"
          ]
        },
        {
          "data": {
            "image/png": "[encoded data removed]",
            "text/plain": [
              "<Figure size 640x480 with 2 Axes>"
            ]
          },
          "metadata": {},
          "output_type": "display_data"
        },
        {
          "name": "stdout",
          "output_type": "stream",
          "text": [
            "              precision    recall  f1-score   support\n",
            "\n",
            "           0       1.00      1.00      1.00       197\n",
            "           1       1.00      0.98      0.99       132\n",
            "           2       0.97      0.99      0.98       265\n",
            "           3       0.99      0.94      0.96       174\n",
            "           4       1.00      0.77      0.87        66\n",
            "           5       0.95      1.00      0.97       348\n",
            "\n",
            "    accuracy                           0.97      1182\n",
            "   macro avg       0.98      0.95      0.96      1182\n",
            "weighted avg       0.97      0.97      0.97      1182\n",
            "\n"
          ]
        }
      ],
      "source": [
        "# ----------------------------------------------------------------------------------------------------------------------------\n",
        "# 1. Aplicar etiquetas\n",
        "posiciones = {\n",
        "    \"ataque\": ['ST', 'CF'],\n",
        "    \"central_ataque\": ['RW', 'CAM', 'LW'],\n",
        "    \"central\": ['RM', 'CM', 'LM'],\n",
        "    \"central_defensa\": ['RWB', 'CDM', 'LWB'],\n",
        "    \"defensa\": ['RB', 'CB', 'LB'],\n",
        "    \"arquero\": ['GK']\n",
        "}\n",
        "\n",
        "posiciones_invertidas = {}\n",
        "for key, values in posiciones.items():\n",
        "    for value in values:\n",
        "        posiciones_invertidas[value] = key\n",
        "\n",
        "# Función para mapear las posiciones\n",
        "def map_position(club_position):\n",
        "    return posiciones_invertidas.get(club_position, np.nan)  # Devuelve 'Unknown' si no encuentra la posición\n",
        "\n",
        "# Crear la nueva columna 'Posicion'\n",
        "df2['Posicion'] = df2['Club_Position'].apply(map_position)\n",
        "\n",
        "df2 = df2.dropna(subset=['Posicion'])\n",
        "\n",
        "# ----------------------------------------------------------------------------------------------------------------------------\n",
        "# 2. Conteo de cantidad de valores por clase en la columna 'Posicion'\n",
        "conteo_clases = df2['Posicion'].value_counts()\n",
        "print(\"\\nConteo de valores por clase en la columna 'Posicion':\")\n",
        "print(conteo_clases)\n",
        "\n",
        "\n",
        "\n",
        "# ----------------------------------------------------------------------------------------------------------------------------\n",
        "# 3. Nuevo pipeline\n",
        "df2.drop(columns = ['Name'])\n",
        "\n",
        "cols_to_scale_and_norm = ['Height', 'Weight','Age', 'Ball_Control', 'Dribbling', 'Marking', 'Sliding_Tackle', 'Standing_Tackle', 'Aggression', 'Reactions', 'Interceptions', \n",
        "                'Vision', 'Composure', 'Crossing', 'Short_Pass', 'Long_Pass', 'Acceleration', 'Speed', 'Stamina', 'Strength',\n",
        "                  'Balance', 'Agility', 'Jumping', 'Heading', 'Shot_Power', 'Finishing', 'Long_Shots', 'Curve', 'Freekick_Accuracy', \n",
        "                    'Penalties', 'Volleys' ]\n",
        "cols_to_code = ['Nationality', 'Preffered_Foot', 'Club_Position', 'Work_Rate', 'Weak_foot', 'Skill_Moves']\n",
        "\n",
        "column_transformer = ColumnTransformer(\n",
        "    transformers = [('no-escalado', MinMaxScaler(), cols_to_scale_and_norm),\n",
        "                      ('no-normal', PowerTransformer(), cols_to_scale_and_norm),\n",
        "                      ('no-interp', OneHotEncoder(handle_unknown='ignore'),cols_to_code)])\n",
        "\n",
        "label_encoder = LabelEncoder()\n",
        "y_encoded = label_encoder.fit_transform(df2['Posicion'])\n",
        "\n",
        "\n",
        "pipeline_rf = Pipeline([('column_transformer', column_transformer), ('clf',  RandomForestClassifier())])\n",
        "\n",
        "df2.reset_index(drop=True)\n",
        "X_train, X_test, y_train, y_test = train_test_split(df2, y_encoded, test_size=0.3, random_state=0)\n",
        "\n",
        "\n",
        "rf_fit = pipeline_rf.fit(X_train, y_train)\n",
        "rf_predict = rf_fit.predict(X_test)\n",
        "rf_matrix = confusion_matrix(y_test, rf_predict, normalize='true')\n",
        "classes_rf = unique_labels(df2['Posicion'])\n",
        "\n",
        "df = pd.DataFrame(rf_matrix, index=classes_rf, columns=classes_rf)\n",
        "\n",
        "map = sns.heatmap(df, annot=True, cmap=\"Blues\")\n",
        "map.set_yticklabels(map.get_yticklabels(), rotation=0)\n",
        "\n",
        "plt.title('CONFUSION MATRIX RANDOM FOREST \\n', fontweight='bold')\n",
        "plt.xlabel('PREDICTED LABEL', fontweight='bold')\n",
        "plt.ylabel('TRUE LABEL', fontweight='bold')\n",
        "plt.autoscale()\n",
        "plt.show()\n",
        "\n",
        "print(classification_report(y_test, rf_predict))\n"
      ]
    },
    {
      "cell_type": "markdown",
      "metadata": {},
      "source": [
        "```\n",
        "4. A partir de los resultados obtenidos podemos notar que el modelo presenta un buen rendimiento a modo general. En particular, se destaca  una precisión absoluta en algunas posiciones especificas tales como defensa y arquero.\n",
        "```\n",
        "\n"
      ]
    },
    {
      "cell_type": "markdown",
      "metadata": {
        "id": "9bL2m8nNojXM"
      },
      "source": [
        "## 3. Predicciones de Seleccionados Nacionales para el Jere Klein [30 puntos]"
      ]
    },
    {
      "cell_type": "markdown",
      "metadata": {
        "id": "_2XmRsJdsEh_"
      },
      "source": [
        "<center>\n",
        "<img src='https://www.radioactiva.cl/wp-content/uploads/2024/04/Jere-Klein-1-768x432.webp' width=500 />"
      ]
    },
    {
      "cell_type": "markdown",
      "metadata": {
        "id": "AgmUoVDsqUPu"
      },
      "source": [
        "Después de alcanzar la fama como cantante urbano, Jere Klein decide explorar una nueva faceta. Con su amor por el fútbol y convencido de que los artistas urbanos poseen un talento y versatilidad excepcionales, Jere se embarca en un proyecto innovador: desarrollar un sistema de inteligencia artificial capaz de identificar a jugadores que tienen potencial para convertirse en futbolistas profesionales. Su teoría es que muchos artistas del género urbano chileno, con sus habilidades únicas y su disciplina, podrían destacarse también en el deporte. Con este sistema, Jere espera no solo abrir nuevas oportunidades para sus colegas artistas, sino también demostrar la amplia gama de talentos que pueden ofrecer."
      ]
    },
    {
      "cell_type": "markdown",
      "metadata": {
        "id": "rD8pQ5Zfq8dE"
      },
      "source": [
        "### 2.1 ¿Qué modelo de árbol es más de \"pana\"? [10 puntos]"
      ]
    },
    {
      "cell_type": "markdown",
      "metadata": {
        "id": "zB-KUA4g99eo"
      },
      "source": [
        "<center>\n",
        "<img src='https://64.media.tumblr.com/39189215a7d3d96823cb359f35b44e05/tumblr_psmrhrR3Xw1qf5hjqo4_540.gif' width=300 />"
      ]
    },
    {
      "cell_type": "markdown",
      "metadata": {
        "id": "uL-moVhB9vPH"
      },
      "source": [
        "\n",
        "**Tareas**\n",
        "\n",
        "\n",
        "1. Considerando el la variable llamada `label` creada en la sección 1.1. Para determinar cuál modelo de árbol sería más adecuado para la tarea en cuestión, utilice PyCaret. Este deberá centrarse exclusivamente en modelos de tipo árbol. Jere ha especificado que busca un modelo que tome decisiones rápidamente y que tenga una baja tasa de falsos positivos, ya que planea invertir en estos jugadores. [3 puntos] Para la comparación, utilice los siguientes modelos:\n",
        "\n",
        "```python\n",
        "['et', 'rf', 'dt', 'xgboost', 'lightgbm', 'catboost']\n",
        "```\n",
        "\n",
        "3. Explique en brevemente que son los modelos de la siguiente lista `['et', 'rf', 'dt']` y como funcionan. [3 punto]\n",
        "\n",
        "4. Tras realizar la comparación de modelos, seleccione aquel que muestre el mejor rendimiento en términos de velocidad y precisión, especialmente en la reducción de falsos positivos. Utilice la función `evaluate_model` de PyCaret para revisar y analizar los resultados obtenidos en los siguientes aspectos:\n",
        "\n",
        "  - **Confusión Matrix**: ¿Cómo se encuentran la tasa de verdaderos positivos y verdaderos negativos?\n",
        "  - **Threshold**: ¿Es acaso el umbral por defecto del modelo el mejor para las predicciones?\n",
        "  - **Feature Importance**: ¿Cuáles son las variables con mejor desempeño? ¿A qué podría deberse esto?\n",
        "  - **Learning Curve**: ¿El modelo presenta algún problema?\n",
        "\n",
        "  [4 puntos]"
      ]
    },
    {
      "cell_type": "markdown",
      "metadata": {
        "id": "qY85nrViYROF"
      },
      "source": [
        "**Respuesta**"
      ]
    },
    {
      "cell_type": "markdown",
      "metadata": {},
      "source": [
        "```\n",
        "3.\n",
        "- **Random Forest (RF)** es un algoritmo que construye múltiples árboles de decisión durante el entrenamiento. Cada árbol se entrena con un subconjunto aleatorio de features, y la predicción final se calcula promediando las predicciones de todos los árboles en el caso de regresión o tomando la moda de las predicciones para clasificación.\n",
        "\n",
        "- **Decision tree (DT)** es un algoritmo que utiliza un árbol de decisiones para hacer predicciones basadas en un conjunto de datos. Divide el conjunto de datos en subconjuntos cada vez más pequeños basados en diferentes features y cada nodo interno del árbol representa una feature mientras que cada hoja representa un ''resultado''. Se construye seleccionando la mejor característica para dividir el conjunto de datos en cada paso en base a la optimización de medidas  como la ganancia de información o la impureza de Gini.\n",
        "\n",
        "- **Extra Trees (ET)** es una extensión de Random Forest con la diferencia en cómo se seleccionan los umbrales para dividir los nodos: Random Forest elige los mejores umbrales posibles mientras que Extra Trees selecciona umbrales aleatorios. Esto hace que Extra Trees sea más rápido de entrenar que Random Forest, aunque a cambio de una pérdida en la precisión.\n",
        "\n",
        "```"
      ]
    },
    {
      "cell_type": "markdown",
      "metadata": {
        "id": "K8DSS3u1xMpB"
      },
      "source": [
        "### 2.2 Reducción de dimensionalidad [14 puntos]"
      ]
    },
    {
      "cell_type": "markdown",
      "metadata": {
        "id": "RLu0543p876P"
      },
      "source": [
        "<center>\n",
        "<img src='https://i.kym-cdn.com/photos/images/original/002/258/560/668.gif' width=400 />"
      ]
    },
    {
      "cell_type": "markdown",
      "metadata": {
        "id": "QT-bxJ0txwNF"
      },
      "source": [
        "A pesar de los resultados obtenidos previamente, el manager de Jere ha solicitado el entrenamiento de un modelo de XGBoost utilizando los datos disponibles. Además, se debe proceder a realizar una reducción de dimensionalidad basada en la importancia de las características.\n",
        "\n",
        "Para llevar a cabo esta tarea:\n",
        "\n",
        "1. Inicie entrenando un modelo XGBoost con todas las características disponibles. [2 puntos]\n",
        "\n",
        "2. Una vez el modelo esté entrenado, evalúe y clasifique las características según su importancia de forma descendente. [2 puntos]\n",
        "\n",
        "3. Utilice esta clasificación para ejecutar una búsqueda recursiva de eliminación de características, eliminando progresivamente las menos importantes y evaluando el impacto en el desempeño del modelo hasta identificar las N características más críticas. [2 puntos]\n",
        "\n",
        "4. Con este conjunto reducido de características, entrene un nuevo modelo y evalúe su rendimiento. [2 puntos]\n",
        "\n",
        "5. Posteriormente, responda a las siguientes preguntas para una comprensión más profunda de los cambios y beneficios:\n",
        "\n",
        "  - ¿El rendimiento del modelo con las características seleccionadas es similar al del modelo original? ¿Cómo se comparan en términos de precisión y robustez? [2 puntos]\n",
        "  - ¿Cuáles son los beneficios potenciales de eliminar variables del modelo? Considere factores como la simplificación del modelo, reducción del tiempo de entrenamiento, y mejora en la capacidad de generalización. [2 puntos]\n",
        "  - Comente si el modelo con menor dimensionalidad es más sencillo de explicar. Explique brevemente por qué la eliminación de ciertas características puede facilitar la comprensión y la explicación del comportamiento del modelo. [2 puntos]\n",
        "\n",
        "Notar que con esta metodologia buscamos encontrar un punto entermedio entre número de festures y desempeño. por esto, si observa que al aumentar festires el aumento es despreciable, puede no considerar agregar más features a su modelo."
      ]
    },
    {
      "cell_type": "markdown",
      "metadata": {
        "id": "NHfmK63TuDOS"
      },
      "source": [
        "**Respuesta**"
      ]
    },
    {
      "cell_type": "code",
      "execution_count": null,
      "metadata": {
        "id": "HQwUd_nsuDOe"
      },
      "outputs": [],
      "source": []
    },
    {
      "cell_type": "markdown",
      "metadata": {
        "id": "PTG5cH9r3M9g"
      },
      "source": [
        "### 2.3 Calibración Probabilistica [6 puntos]"
      ]
    },
    {
      "cell_type": "markdown",
      "metadata": {
        "id": "CDL0VqjR7yvb"
      },
      "source": [
        "<center>\n",
        "<img src='https://media2.giphy.com/media/l2Je4Ku0Cx292KWv6/200w.gif?cid=6c09b952y0sihtq9tb6sz8j2023x3zxxp3qx1ocgonkpkblj&ep=v1_gifs_search&rid=200w.gif&ct=g' width=400 />"
      ]
    },
    {
      "cell_type": "markdown",
      "metadata": {
        "id": "qmOKxhAw3sic"
      },
      "source": [
        "Para lograr modelos más modulares, se recomienda realizar una calibración del modelo entrenado anteriormente, con el objetivo de obtener salidas que reflejen mayor modularidad.\n",
        "\n",
        "1. Se solicita que utilice un método de calibración que asegure que las probabilidades generadas incrementen de manera monótona. Una métrica ampliamente utilizada para evaluar la precisión de la calibración de un modelo es el Brier Score. Calcule el Brier Score para el modelo tanto antes como después de la calibración. Esto le permitirá realizar una comparación cuantitativa y determinar si la calibración ha mejorado el rendimiento del modelo. Para más información sobre el Brier Score, puede consultar el siguiente enlace: [Scikit-Learn - Brier Score Loss](https://scikit-learn.org/stable/modules/generated/sklearn.metrics.brier_score_loss.html). [3 puntos]\n",
        "\n",
        "2. Tras la calibración, examine y comente los resultados obtenidos. A su análisis añada una comparación visual de las ideales versus las salidas del modelo original (sin calibrar) y del modelo calibrado. [3 puntos]"
      ]
    },
    {
      "cell_type": "markdown",
      "metadata": {
        "id": "QIiYz_qLuD19"
      },
      "source": [
        "**Respuesta**"
      ]
    },
    {
      "cell_type": "code",
      "execution_count": null,
      "metadata": {
        "id": "l0bfSuiFuD2I"
      },
      "outputs": [],
      "source": []
    }
  ],
  "metadata": {
    "colab": {
      "collapsed_sections": [
        "k-ao0mOU64Ru",
        "Jg_9jBqtgRDO",
        "JdcucZhp-M_0",
        "Qfre1YsSDqla",
        "Bv1HOfcNEPF4",
        "poc9HSNBFeKO",
        "uy5VMU6ae_g6",
        "9bL2m8nNojXM",
        "rD8pQ5Zfq8dE",
        "K8DSS3u1xMpB",
        "PTG5cH9r3M9g"
      ],
      "provenance": []
    },
    "kernelspec": {
      "display_name": "Python 3",
      "name": "python3"
    },
    "language_info": {
      "codemirror_mode": {
        "name": "ipython",
        "version": 3
      },
      "file_extension": ".py",
      "mimetype": "text/x-python",
      "name": "python",
      "nbconvert_exporter": "python",
      "pygments_lexer": "ipython3",
      "version": "3.11.5"
    }
  },
  "nbformat": 4,
  "nbformat_minor": 0
}
