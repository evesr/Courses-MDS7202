{
  "cells": [
    {
      "cell_type": "markdown",
      "metadata": {
        "cell_id": "b5c0d2440b3e4995a794ded565213150",
        "deepnote_cell_type": "markdown",
        "id": "_Mql1uRoI5v5"
      },
      "source": [
        "<h1><center>Laboratorio 9: Optimización de modelos 💯</center></h1>\n",
        "\n",
        "<center><strong>MDS7202: Laboratorio de Programación Científica para Ciencia de Datos</strong></center>"
      ]
    },
    {
      "cell_type": "markdown",
      "metadata": {
        "cell_id": "bfb94b9656f145ad83e81b75d218cb70",
        "deepnote_cell_type": "markdown",
        "id": "FAPGIlEAI5v8"
      },
      "source": [
        "### Cuerpo Docente:\n",
        "\n",
        "- Profesores: Ignacio Meza, Sebastián Tinoco\n",
        "- Auxiliares: Catherine Benavides y Consuelo Rojas\n",
        "- Ayudante: Nicolás Ojeda, Eduardo Moya"
      ]
    },
    {
      "cell_type": "markdown",
      "metadata": {
        "cell_id": "b1b537fdd27c43909a49d3476ce64d91",
        "deepnote_cell_type": "markdown",
        "id": "8NozgbkZI5v9"
      },
      "source": [
        "### Equipo: SUPER IMPORTANTE - notebooks sin nombre no serán revisados\n",
        "\n",
        "- Pía Antiquera.\n",
        "- Evelyn Silva.\n"
      ]
    },
    {
      "cell_type": "markdown",
      "metadata": {
        "cell_id": "b7dbdd30ab544cb8a8afe00648a586ae",
        "deepnote_cell_type": "markdown",
        "id": "vHU9DI6wI5v9"
      },
      "source": [
        "### Temas a tratar\n",
        "\n",
        "- Predicción de demanda usando `xgboost`\n",
        "- Búsqueda del modelo óptimo de clasificación usando `optuna`\n",
        "- Uso de pipelines.\n",
        "\n",
        "### Reglas:\n",
        "\n",
        "- **Grupos de 2 personas**\n",
        "- Cualquier duda fuera del horario de clases al foro. Mensajes al equipo docente serán respondidos por este medio.\n",
        "- Prohibidas las copias.\n",
        "- Pueden usar cualquer matrial del curso que estimen conveniente.\n",
        "- Código que no se pueda ejecutar, no será revisado.\n",
        "\n",
        "### Objetivos principales del laboratorio\n",
        "\n",
        "- Optimizar modelos usando `optuna`\n",
        "- Recurrir a técnicas de *prunning*\n",
        "- Forzar el aprendizaje de relaciones entre variables mediante *constraints*\n",
        "- Fijar un pipeline con un modelo base que luego se irá optimizando.\n",
        "\n",
        "El laboratorio deberá ser desarrollado sin el uso indiscriminado de iteradores nativos de python (aka \"for\", \"while\"). La idea es que aprendan a exprimir al máximo las funciones optimizadas que nos entrega `pandas`, las cuales vale mencionar, son bastante más eficientes que los iteradores nativos sobre DataFrames."
      ]
    },
    {
      "cell_type": "markdown",
      "metadata": {
        "cell_id": "f38c8342f5164aa992a97488dd5590bf",
        "deepnote_cell_type": "markdown",
        "id": "3Ceri_rbI5v9"
      },
      "source": [
        "### **Link de repositorio de GitHub:** `https://github.com/piaantiquera/Courses-MDS7202.git`"
      ]
    },
    {
      "cell_type": "markdown",
      "metadata": {
        "cell_id": "f1c73babb7f74af588a4fa6ae14829e0",
        "deepnote_cell_type": "markdown",
        "id": "U_-sNOuOI5v9"
      },
      "source": [
        "# Importamos librerias útiles"
      ]
    },
    {
      "cell_type": "code",
      "execution_count": 1,
      "metadata": {
        "cell_id": "51afe4d2df42442b9e5402ffece60ead",
        "deepnote_cell_type": "code",
        "deepnote_to_be_reexecuted": false,
        "execution_millis": 4957,
        "execution_start": 1699544354044,
        "id": "ekHbM85NI5v9",
        "source_hash": null
      },
      "outputs": [],
      "source": [
        "!pip install -qq xgboost optuna"
      ]
    },
    {
      "cell_type": "code",
      "execution_count": 2,
      "metadata": {},
      "outputs": [
        {
          "name": "stdout",
          "output_type": "stream",
          "text": [
            "Requirement already satisfied: optuna-integration in /Users/piaal/anaconda3/lib/python3.11/site-packages (3.6.0)\n",
            "Requirement already satisfied: optuna in /Users/piaal/anaconda3/lib/python3.11/site-packages (from optuna-integration) (3.6.1)\n",
            "Requirement already satisfied: alembic>=1.5.0 in /Users/piaal/anaconda3/lib/python3.11/site-packages (from optuna->optuna-integration) (1.13.1)\n",
            "Requirement already satisfied: colorlog in /Users/piaal/anaconda3/lib/python3.11/site-packages (from optuna->optuna-integration) (6.8.2)\n",
            "Requirement already satisfied: numpy in /Users/piaal/anaconda3/lib/python3.11/site-packages (from optuna->optuna-integration) (1.24.4)\n",
            "Requirement already satisfied: packaging>=20.0 in /Users/piaal/anaconda3/lib/python3.11/site-packages (from optuna->optuna-integration) (23.2)\n",
            "Requirement already satisfied: sqlalchemy>=1.3.0 in /Users/piaal/anaconda3/lib/python3.11/site-packages (from optuna->optuna-integration) (2.0.25)\n",
            "Requirement already satisfied: tqdm in /Users/piaal/anaconda3/lib/python3.11/site-packages (from optuna->optuna-integration) (4.66.1)\n",
            "Requirement already satisfied: PyYAML in /Users/piaal/anaconda3/lib/python3.11/site-packages (from optuna->optuna-integration) (6.0.1)\n",
            "Requirement already satisfied: Mako in /Users/piaal/anaconda3/lib/python3.11/site-packages (from alembic>=1.5.0->optuna->optuna-integration) (1.3.3)\n",
            "Requirement already satisfied: typing-extensions>=4 in /Users/piaal/anaconda3/lib/python3.11/site-packages (from alembic>=1.5.0->optuna->optuna-integration) (4.9.0)\n",
            "Requirement already satisfied: MarkupSafe>=0.9.2 in /Users/piaal/anaconda3/lib/python3.11/site-packages (from Mako->alembic>=1.5.0->optuna->optuna-integration) (2.1.5)\n"
          ]
        }
      ],
      "source": [
        "!pip install optuna-integration"
      ]
    },
    {
      "cell_type": "markdown",
      "metadata": {
        "id": "y6hJXpLCSspz"
      },
      "source": [
        "# El emprendimiento de Fiu"
      ]
    },
    {
      "cell_type": "markdown",
      "metadata": {
        "cell_id": "44d227389a734ac59189c5e0005bc68a",
        "deepnote_cell_type": "markdown",
        "id": "b0bDalAOI5v-"
      },
      "source": [
        "Tras liderar de manera exitosa la implementación de un proyecto de ciencia de datos para caracterizar los datos generados en Santiago 2023, el misterioso corpóreo **Fiu** se anima y decide levantar su propio negocio de consultoría en machine learning. Tras varias e intensas negociaciones, Fiu logra encontrar su *primera chamba*: predecir la demanda (cantidad de venta) de una famosa productora de bebidas de calibre mundial. Como usted tuvo un rendimiento sobresaliente en el proyecto de caracterización de datos, Fiu lo contrata como *data scientist* de su emprendimiento.\n",
        "\n",
        "Para este laboratorio deben trabajar con los datos `sales.csv` subidos a u-cursos, el cual contiene una muestra de ventas de la empresa para diferentes productos en un determinado tiempo.\n",
        "\n",
        "Para comenzar, cargue el dataset señalado y visualice a través de un `.head` los atributos que posee el dataset.\n",
        "\n",
        "<i><p align=\"center\">Fiu siendo felicitado por su excelente desempeño en el proyecto de caracterización de datos</p></i>\n",
        "<p align=\"center\">\n",
        "  <img src=\"https://media-front.elmostrador.cl/2023/09/A_UNO_1506411_2440e.jpg\">\n",
        "</p>"
      ]
    },
    {
      "cell_type": "code",
      "execution_count": 3,
      "metadata": {},
      "outputs": [],
      "source": [
        "### Importación de librerias\n",
        "\n",
        "from sklearn.model_selection import train_test_split\n",
        "from sklearn.pipeline import Pipeline\n",
        "from sklearn.dummy import DummyRegressor\n",
        "from sklearn.preprocessing import FunctionTransformer\n",
        "from sklearn.compose import ColumnTransformer\n",
        "# Se importan distintos métodos para escalar ya que se prueban todos.\n",
        "from sklearn.preprocessing import OneHotEncoder, PowerTransformer, StandardScaler, MinMaxScaler\n",
        "from sklearn.metrics import mean_absolute_error\n",
        "from xgboost import XGBRegressor\n",
        "import optuna \n",
        "import pandas as pd\n",
        "import numpy as np\n",
        "from datetime import datetime\n",
        "optuna.logging.set_verbosity(optuna.logging.WARNING)\n",
        "from optuna.integration import XGBoostPruningCallback \n",
        "from xgboost import XGBRegressor\n",
        "from optuna.visualization import plot_optimization_history\n",
        "from optuna.visualization import plot_parallel_coordinate\n",
        "from optuna.visualization import plot_param_importances\n",
        "import joblib\n",
        "import pickle\n",
        "import warnings\n",
        "warnings.filterwarnings(\"ignore\")"
      ]
    },
    {
      "cell_type": "code",
      "execution_count": 4,
      "metadata": {
        "cell_id": "2f9c82d204b14515ad27ae07e0b77702",
        "deepnote_cell_type": "code",
        "deepnote_to_be_reexecuted": false,
        "execution_millis": 92,
        "execution_start": 1699544359006,
        "id": "QvMPOqHuI5v-",
        "outputId": "659e7a12-d74d-45d6-d3c2-33a6cd338585",
        "source_hash": null
      },
      "outputs": [
        {
          "name": "stdout",
          "output_type": "stream",
          "text": [
            "Min quantity: 2953\n",
            "Max quantity: 145287\n",
            "Mean quantity: 29408.428379828325\n"
          ]
        }
      ],
      "source": [
        "df = pd.read_csv('sales.csv')\n",
        "df['date'] = pd.to_datetime(df['date'])\n",
        "\n",
        "print('Min quantity:', df['quantity'].min())\n",
        "print('Max quantity:', df['quantity'].max())\n",
        "print('Mean quantity:', df['quantity'].mean())"
      ]
    },
    {
      "cell_type": "markdown",
      "metadata": {
        "cell_id": "b50db6f2cb804932ae3f9e5748a6ea61",
        "deepnote_cell_type": "markdown",
        "id": "pk4ru76pI5v_"
      },
      "source": [
        "## 1 Generando un Baseline (0.5 puntos)\n",
        "\n",
        "<p align=\"center\">\n",
        "  <img src=\"https://media.tenor.com/O-lan6TkadUAAAAC/what-i-wnna-do-after-a-baseline.gif\">\n",
        "</p>\n",
        "\n",
        "Antes de entrenar un algoritmo, usted recuerda los apuntes de su magíster en ciencia de datos y recuerda que debe seguir una serie de *buenas prácticas* para entrenar correcta y debidamente su modelo. Después de un par de vueltas, llega a las siguientes tareas:\n",
        "\n",
        "1. Separe los datos en conjuntos de train (70%), validation (20%) y test (10%). Fije una semilla para controlar la aleatoriedad.\n",
        "2. Implemente un `FunctionTransformer` para extraer el día, mes y año de la variable `date`. Guarde estas variables en el formato categorical de pandas.\n",
        "3. Implemente un `ColumnTransformer` para procesar de manera adecuada los datos numéricos y categóricos. Use `OneHotEncoder` para las variables categóricas.\n",
        "4. Guarde los pasos anteriores en un `Pipeline`, dejando como último paso el regresor `DummyRegressor` para generar predicciones en base a promedios.\n",
        "5. Entrene el pipeline anterior y reporte la métrica `mean_absolute_error` sobre los datos de validación. ¿Cómo se interpreta esta métrica para el contexto del negocio?\n",
        "6. Finalmente, vuelva a entrenar el `Pipeline` pero esta vez usando `XGBRegressor` como modelo **utilizando los parámetros por default**. ¿Cómo cambia el MAE al implementar este algoritmo? ¿Es mejor o peor que el `DummyRegressor`?\n",
        "7. Guarde ambos modelos en un archivo .pkl (uno cada uno)"
      ]
    },
    {
      "cell_type": "code",
      "execution_count": 5,
      "metadata": {
        "cell_id": "1482c992d9494e5582b23dbd3431dbfd",
        "deepnote_cell_type": "code",
        "id": "sfnN7HubI5v_"
      },
      "outputs": [
        {
          "name": "stdout",
          "output_type": "stream",
          "text": [
            "MAE en particion de validación (DummyRegressor): 13576.56699051175\n",
            "MAE en particion de validación (XGBRegressor): 7012.852410624883\n"
          ]
        }
      ],
      "source": [
        "### 1. Particion del conjunto de datos ---------------------------------------------------------------------------------------------------------------------------------------------------\n",
        "train, test = train_test_split(df, test_size=0.1, random_state=42)\n",
        "train, val = train_test_split(train, test_size=0.2, random_state=42)\n",
        "# Subconjuntos X\n",
        "X_train = train.drop(['quantity','id'], axis=1)\n",
        "X_val = val.drop(['quantity','id'], axis=1)\n",
        "X_test = test.drop(['quantity','id'], axis=1)\n",
        "# Subconjuntos Y\n",
        "Y_train = train['quantity']\n",
        "Y_val = val['quantity']\n",
        "Y_test = test['quantity']\n",
        "\n",
        "\n",
        "### 2. Definición functionTransformer -----------------------------------------------------------------------------------------------------------------------------------------------------\n",
        "def transform_date(df):\n",
        "    # Obtener columna date con formato de fecha\n",
        "    df['date'] = pd.to_datetime(df['date'])\n",
        "    # Extraer el año de la fecha como categorico.\n",
        "    df['year'] = df['date'].dt.year.astype('category')\n",
        "    # Extrar el mes de la fecha como categorico.\n",
        "    df['month'] = df['date'].dt.month.astype('category')\n",
        "    # Extraer el dia de la fecha como categorico.\n",
        "    df['day'] = df['date'].dt.day.astype('category')\n",
        "    # Eliminar la columna date por redundancia\n",
        "    df_mod = df.drop('date', axis=1)\n",
        "    \n",
        "    return df_mod\n",
        "\n",
        "### 3. Definición de ColumnTransformer ---------------------------------------------------------------------------------------------------------------------------------------------------\n",
        "def get_categorical(df):\n",
        "    categorical_cols = df.select_dtypes(include=['object', 'category']).columns.tolist()\n",
        "    return categorical_cols\n",
        "\n",
        "def get_numerical(df):\n",
        "    numerical_cols = df.select_dtypes(include=['float64', 'int64']).columns.tolist()\n",
        "    numerical_cols.remove('id')\n",
        "    numerical_cols.remove('quantity')\n",
        "    return numerical_cols\n",
        "\n",
        "categorical_cols = get_categorical(train)\n",
        "numerical_cols = get_numerical(train)\n",
        "\n",
        "preprocessor = ColumnTransformer([\n",
        "    ('Numerical_cols', PowerTransformer(), numerical_cols),\n",
        "    ('Categorical_cols', OneHotEncoder(sparse_output=True), categorical_cols)\n",
        "])\n",
        "\n",
        "\n",
        "### 4. Implementación de Pipeline con DummyRegressor ------------------------------------------------------------------------------------------------------------------------------------\n",
        "\n",
        "# Creacion del pipeline\n",
        "pipeline_dummyregressor = Pipeline([\n",
        "    # Implementación de FuncionTransformer en columna 'date'\n",
        "        ('Transform_date', FunctionTransformer(transform_date)),\n",
        "    # Implementación de ColumnTransformer en columnas numericas y categoricas\n",
        "        ('Preprocessor', preprocessor),\n",
        "    # Implementación de FunctionTransformer para transformar el output a df\n",
        "        ('Convert_df', FunctionTransformer(\n",
        "        lambda X: pd.DataFrame(X, columns=numerical_cols + preprocessor.transformers_[1][1].get_feature_names_out().tolist()))),\n",
        "    # Implementación de DummyRegresor\n",
        "        ('DummyRegressor', DummyRegressor(strategy='mean'))\n",
        "        ])\n",
        "\n",
        "### 5. Entrenamiento del pipeline y obtención de MAE desde validacion --------------------------------------------------------------------------------------------------------------------\n",
        "\n",
        "# Entrenamiento del pipeline\n",
        "pipeline_dummyregressor.fit(X = X_train, y=Y_train)\n",
        "\n",
        "# Prediccion en particion de validacion\n",
        "Y_val_preds = pipeline_dummyregressor.predict(X_val)\n",
        "# Obtencion de métrica MAE a partir de las predicciones en particion de validacion\n",
        "MAE_val_dummyregressor = mean_absolute_error(Y_val, Y_val_preds)\n",
        "print(f'MAE en particion de validación (DummyRegressor): {MAE_val_dummyregressor}')\n",
        "\n",
        "### 6. Implementacion de Pipeline con XGBRegressor  --------------------------------------------------------------------------------------------------------------------------------------\n",
        "\n",
        "# Creacion del pipeline\n",
        "pipeline_xgbregressor = Pipeline([\n",
        "    # Implementación de FuncionTransformer en columna 'date'\n",
        "        ('Transform_date', FunctionTransformer(transform_date)),\n",
        "    # Implementación de ColumnTransformer en columnas numericas y categoricas\n",
        "        ('Preprocessor', preprocessor),\n",
        "    #  Implementación de FunctionTransformer para transformar el output a df\n",
        "        ('Convert_df', FunctionTransformer(\n",
        "        lambda X: pd.DataFrame(X, columns=numerical_cols + preprocessor.transformers_[1][1].get_feature_names_out().tolist()))),\n",
        "    # Implementación de XGBRegressor\n",
        "        ('XGBRegressor', XGBRegressor())\n",
        "        ])\n",
        "\n",
        "# Entrenamiento del pipeline\n",
        "pipeline_xgbregressor.fit(X = X_train, y=Y_train)\n",
        "# Prediccion en particion de validacion\n",
        "Y_val_preds = pipeline_xgbregressor.predict(X_val)\n",
        "# Obtencion de métrica MAE a partir de las predicciones en particion de validacion\n",
        "MAE_val_xgbregressor = mean_absolute_error(Y_val, Y_val_preds)\n",
        "print(f'MAE en particion de validación (XGBRegressor): {MAE_val_xgbregressor}')\n",
        "\n",
        "### 7. Guardar modelos en pkl -----------------------------------------------------------------------------------------------------------------------------------------------------------\n",
        "# No los guardamos porque no los vamos a usar despues\n",
        "#joblib.dump(pipeline_dummyregressor, 'dummyregressor.pkl')\n",
        "#joblib.dump(pipeline_xgbregressor, 'xgbregressor.pkl')"
      ]
    },
    {
      "cell_type": "markdown",
      "metadata": {},
      "source": [
        "5. A partir de la implementación del pipeline con DummyRegressor, notamos que se tiene un MAE de 13576. El MAE corresponde a las diferencias absolutas entre las predicciiones del modelo de la demanda y el valor real de la demanda, por lo tanto nos dice, en promedio, cuanto se desvia o \"que tan lejos\" está la estimación de la demanda respecto a su valor real. \n",
        "\n",
        "6. A partir de la implementación del pipeline con XGBRegressor, notamos que se tiene un MAE de 7012, es decir, tuvo una mejora significativa en la precisión del modelo reflejada por la reducción del valor del MAE reportado. Lo anterior sugiere que el XGBRegressor presenta un mejor rendimiento general dado que es mas eficiente al momento de predecir la demanda dado que es capaz de capturar patrones importantes en los datos que el DummyRegressor no puede dada su naturaleza (de predecir la media de los valores de entrenamiento).\n"
      ]
    },
    {
      "cell_type": "markdown",
      "metadata": {
        "cell_id": "7e17e46063774ec28226fe300d42ffe0",
        "deepnote_cell_type": "markdown",
        "id": "wnyMINdKI5v_"
      },
      "source": [
        "## 2. Forzando relaciones entre parámetros con XGBoost (1.0 puntos)\n",
        "\n",
        "<p align=\"center\">\n",
        "  <img src=\"https://64.media.tumblr.com/14cc45f9610a6ee341a45fd0d68f4dde/20d11b36022bca7b-bf/s640x960/67ab1db12ff73a530f649ac455c000945d99c0d6.gif\">\n",
        "</p>\n",
        "\n",
        "Un colega aficionado a la economía le *sopla* que la demanda guarda una relación inversa con el precio del producto. Motivado para impresionar al querido corpóreo, se propone hacer uso de esta información para mejorar su modelo realizando las siguientes tareas:\n",
        "\n",
        "1. Vuelva a entrenar el `Pipeline`, pero esta vez forzando una relación monótona negativa entre el precio y la cantidad. Para aplicar esta restricción apóyese en la siguiente <a href = https://xgboost.readthedocs.io/en/stable/tutorials/monotonic.html>documentación</a>. Hint: Para implementar el constraint se le sugiere hacerlo especificando el nombre de la variable. De ser así, probablemente le sea útil **mantener el formato de pandas** antes del step de entrenamiento.\n",
        "\n",
        "2. Luego, vuelva a reportar el `MAE` sobre el conjunto de validación.\n",
        "\n",
        "3. ¿Cómo cambia el error al incluir esta relación? ¿Tenía razón su amigo?\n",
        "\n",
        "\n"
      ]
    },
    {
      "cell_type": "code",
      "execution_count": 6,
      "metadata": {
        "cell_id": "f469f3b572be434191d2d5c3f11b20d2",
        "deepnote_cell_type": "code",
        "id": "B7tMnkiAI5v_"
      },
      "outputs": [
        {
          "name": "stdout",
          "output_type": "stream",
          "text": [
            "MAE en particion de validación (XGBRegressor con relación): 7367.636681865118\n"
          ]
        },
        {
          "data": {
            "text/plain": [
              "['pipeline_xgbregressor_ct.pkl']"
            ]
          },
          "execution_count": 6,
          "metadata": {},
          "output_type": "execute_result"
        }
      ],
      "source": [
        "# 1. Creacion del pipeline y obtención de MAE desde validacion ------------------------------------------------------------------------------------------------------------------------------------------------------------\n",
        "pipeline_relation = Pipeline([\n",
        "    # Implementación de FuncionTransformer en columna 'date'\n",
        "        ('Transform_date', FunctionTransformer(transform_date)),\n",
        "    # Implementación de ColumnTransformer en columnas numericas y categoricas\n",
        "        ('Preprocessor', preprocessor),\n",
        "    # Implementación de FunctionTransformer para transformar el output a df\n",
        "        ('Convert_df', FunctionTransformer(\n",
        "        lambda X: pd.DataFrame(X, columns=numerical_cols + preprocessor.transformers_[1][1].get_feature_names_out().tolist()))),\n",
        "    # Implementación de XGBRegressor incluyendo la relacion monotona negativa con el precio\n",
        "        ('XGBRegressor', XGBRegressor(interaction_constraints=[{'price':-1}]))\n",
        "        ])\n",
        "\n",
        "# Entrenamiento del pipeline\n",
        "pipeline_relation.fit(X = X_train, y=Y_train)\n",
        "# Prediccion en particion de validacion\n",
        "Y_val_preds = pipeline_relation.predict(X_val)\n",
        "# Obtencion de métrica MAE a partir de las predicciones en particion de validacion\n",
        "MAE_val_xgbregressor_ct = mean_absolute_error(Y_val, Y_val_preds)\n",
        "print(f'MAE en particion de validación (XGBRegressor con relación): {MAE_val_xgbregressor_ct}')\n",
        "\n",
        "# No lo guardamos porque no lo usaremos despues\n",
        "xgbregressor_ct = XGBRegressor(interaction_constraints=[{'price':-1}])\n",
        "joblib.dump(xgbregressor_ct, 'pipeline_xgbregressor_ct.pkl')\n"
      ]
    },
    {
      "cell_type": "markdown",
      "metadata": {},
      "source": [
        "3.  A partir de la implementación del pipeline con XGBRegressor forzando una restricción de relación monótona negativa entre el precio y la cantidad, notamos que se tienee un MAE de 7367, es decir, en comparación con el pipeline con XGBRegressor que no tiene esta restricción, no se presenta una mejora en el rendimiento general del modelo reflejado en el aumento del MAE. Por lo tanto, pareciera que la relación monótona negativa entre precio y cantidad no es del todo cierta pues de ser así, deberia presentarse una disminución del MAE en comparación con el mismo modelo sin la restricción de relación."
      ]
    },
    {
      "cell_type": "markdown",
      "metadata": {
        "cell_id": "e59ef80ed20b4de8921f24da74e87374",
        "deepnote_cell_type": "markdown",
        "id": "5D5-tX4dI5v_"
      },
      "source": [
        "## 3. Optimización de Hiperparámetros con Optuna (2.0 puntos)\n",
        "\n",
        "<p align=\"center\">\n",
        "  <img src=\"https://media.tenor.com/fmNdyGN4z5kAAAAi/hacking-lucy.gif\">\n",
        "</p>\n",
        "\n",
        "Luego de presentarle sus resultados, Fiu le pregunta si es posible mejorar *aun más* su modelo. En particular, le comenta de la optimización de hiperparámetros con metodologías bayesianas a través del paquete `optuna`. Como usted es un aficionado al entrenamiento de modelos de ML, se propone implementar la descabellada idea de su jefe.\n",
        "\n",
        "A partir de la mejor configuración obtenida en la sección anterior, utilice `optuna` para optimizar sus hiperparámetros. En particular, se le pide:\n",
        "\n",
        "- Fijar una semilla en las instancias necesarias para garantizar la reproducibilidad de resultados\n",
        "- Utilice `TPESampler` como método de muestreo\n",
        "- De `XGBRegressor`, optimice los siguientes hiperparámetros:\n",
        "    - `learning_rate` buscando valores flotantes en el rango (0.001, 0.1)\n",
        "    - `n_estimators` buscando valores enteros en el rango (50, 1000)\n",
        "    - `max_depth` buscando valores enteros en el rango (3, 10)\n",
        "    - `max_leaves` buscando valores enteros en el rango (0, 100)\n",
        "    - `min_child_weight` buscando valores enteros en el rango (1, 5)\n",
        "    - `reg_alpha` buscando valores flotantes en el rango (0, 1)\n",
        "    - `reg_lambda` buscando valores flotantes en el rango (0, 1)\n",
        "- De `OneHotEncoder`, optimice el hiperparámetro `min_frequency` buscando el mejor valor flotante en el rango (0.0, 1.0)\n",
        "- Explique cada hiperparámetro y su rol en el modelo. ¿Hacen sentido los rangos de optimización indicados?\n",
        "- Fije el tiempo de entrenamiento a 5 minutos\n",
        "- Reportar el número de *trials*, el `MAE` y los mejores hiperparámetros encontrados. ¿Cómo cambian sus resultados con respecto a la sección anterior? ¿A qué se puede deber esto?\n",
        "- Guardar su modelo en un archivo .pkl"
      ]
    },
    {
      "cell_type": "code",
      "execution_count": 7,
      "metadata": {
        "cell_id": "de5914621cc64cb0b1bacb9ff565a97e",
        "deepnote_cell_type": "code",
        "id": "kMXXi1ckI5v_"
      },
      "outputs": [
        {
          "data": {
            "application/vnd.jupyter.widget-view+json": {
              "model_id": "1cf9f0d5129d4dbfaea3bdaca0d52f1b",
              "version_major": 2,
              "version_minor": 0
            },
            "text/plain": [
              "   0%|          | 00:00/05:00"
            ]
          },
          "metadata": {},
          "output_type": "display_data"
        },
        {
          "name": "stdout",
          "output_type": "stream",
          "text": [
            "Best parameters: {'learning_rate': 0.0964255209824671, 'n_estimators': 277, 'max_depth': 7, 'max_leaves': 10, 'min_child_weight': 4, 'reg_alpha': 0.31063815361179714, 'reg_lambda': 0.19404647584629156, 'min_frequency': 0.17869075229323728}\n",
            "Best value: 6469.700953203591\n",
            "Number_trials: 66\n"
          ]
        }
      ],
      "source": [
        "# Funcion para optimizar parametros del modelo --------------------------------------------------------------------------------------------------------------------------------------------\n",
        "def optimize_function(trial):\n",
        "    # Definición de rangos de optimización por hiperparámetro para XGBRegressor\n",
        "    params_xgb = {\n",
        "        \"learning_rate\": trial.suggest_float(\"learning_rate\", 0.001, 0.1),\n",
        "        \"n_estimators\": trial.suggest_int(\"n_estimators\", 50, 1000),\n",
        "        \"max_depth\": trial.suggest_int(\"max_depth\", 3, 10),\n",
        "        \"max_leaves\": trial.suggest_int(\"max_leaves\", 0, 100),\n",
        "        \"min_child_weight\": trial.suggest_int(\"min_child_weight\", 1, 5),\n",
        "        \"reg_alpha\": trial.suggest_float(\"reg_alpha\", 0, 1),\n",
        "        \"reg_lambda\": trial.suggest_float(\"reg_lambda\", 0, 1)\n",
        "    }\n",
        "    # Definición de rangos de optimización por hiperparámetro para Onehotencoder\n",
        "    params_onehot = {\n",
        "        \"min_frequency\": trial.suggest_float(\"min_frequency\", 0.1, 1),\n",
        "    }\n",
        "    # Definición de columntransformer para preprocesamiento\n",
        "    preprocessor = ColumnTransformer([\n",
        "    ('Numerical_cols', PowerTransformer(), numerical_cols),\n",
        "    ('Categorical_cols', OneHotEncoder(sparse_output=True, **params_onehot), categorical_cols)])\n",
        "    # Definicion de pipeline con preprocesamiento y XGBRegressor\n",
        "    pipeline_to_optimize = Pipeline([\n",
        "    # Implementación de FuncionTransformer en columna 'date'\n",
        "        ('Transform_date', FunctionTransformer(transform_date)),\n",
        "    # Implementación de ColumnTransformer en columnas numericas y categoricas\n",
        "        ('Preprocessor', preprocessor),\n",
        "    # Implementación de FunctionTransformer para transformar el output a df\n",
        "        ('Convert_df', FunctionTransformer(\n",
        "        lambda X: pd.DataFrame(X, columns=numerical_cols + preprocessor.transformers_[1][1].get_feature_names_out().tolist()))),\n",
        "    # Implementación de XGBRegressor incluyendo la relacion monotona negativa con el precio\n",
        "        ('XGBRegressor', XGBRegressor(seed=42,  **params_xgb, verbose=False))\n",
        "        ])\n",
        "    # Entrenamiento del pipeline\n",
        "    pipeline_to_optimize.fit(X_train, Y_train)   \n",
        "    # Prediccion en particion de validacion\n",
        "    Y_val_preds = pipeline_to_optimize.predict(X_val)\n",
        "    # Obtencion de métrica MAE a partir de las predicciones en particion de validacion\n",
        "    MAE_val = mean_absolute_error(Y_val, Y_val_preds)\n",
        "    #print(f'MAE en particion de validación (XGBRegressor con optimización de parámetros): {MAE_val}')\n",
        "    return MAE_val\n",
        "\n",
        "#  Implementacion -----------------------------------------------------------------------------------------------------------------------------------------------------------------------\n",
        "study = optuna.create_study(direction=\"minimize\", sampler=optuna.samplers.TPESampler(seed=99))\n",
        "study.optimize(optimize_function, timeout=300, show_progress_bar=True)\n",
        "\n",
        "# Obtencion de parámetros optimos, MAE óptimo y cantidad de intentos --------------------------------------------------------------------------------------------------------------------\n",
        "print('Best parameters:', study.best_params)\n",
        "print('Best value:', study.best_value)\n",
        "print('Number_trials:', len(study.trials))\n",
        "MAE_val_xgbregressor_opt = study.best_value"
      ]
    },
    {
      "cell_type": "markdown",
      "metadata": {},
      "source": [
        "Hiperparámetros:\n",
        "- **learning_rate:** Parámetro de XGBRegressor() que corresponde a la tasa de aprendizaje para regular \"que tanto contribuye\" el árbol en la predicción final, o bien, en que grado como se ajustan los pesos del modelo en cada iteración. El rango de optimización de 0.001 a 0.1 es razonable dado que un valor mayor a 0.1 probablemente no presente mejoras significativas en el rendimiento (ya que alcanza un punto de saturación) y a partir de 0.001 se pueden tener aumentos significativos del rendimiento.\n",
        "\n",
        "- **n_estimators:** Parámetro de XGBRegressor() que corresponde a la cantidad de árboles del modelo. Un mayor valor puede mejorar el rendimiento del modelo pero aumentar el tiempo de ejecución y el riesgo de sobreajuste. El rango de optimización de 50 a 1000 parece razonable dado que un valor mayor a 1000 aumenta la complejidad del modelo a un nivel donde los recursos podrían no ser suficientes (altos tiempos de ejecución por ejemplo) o llegar  aun punto donde el modelo no presente mejoras significativas en el rendimiento (punto de saturación).\n",
        "\n",
        "- **max_depth:** Parámetro de XGBRegressor() asociado a la complejidad del árbol. Corresponde a la altura máxima (profundidad) del árbol. Un mayor valor puede mejorar el rendimiento (al capturar mas información) pero aumentar el riesgo de sobreajuste por la complejidad del árbol.  El rango de optimización de 3 a 10 parece razonable ya que un valor mayor a 10 aumentaría la complejidad del modelo de forma análoga a n_Estimators.\n",
        "\n",
        "- **max_leaves:** Parámetro de XGBRegressor() asociado a la complejidad del árbol. Corresponde a la cantidad de nodos terminales (hojas) del árbol. Un mayor valor tiene efectos análogos a un mayor valor en max_depth dado que tambien es un parámetro asociado a la complejidad del árbol. El rango de optimización de 0 a 100 podría tener un mayor valor mínimo de 1 ya que no tiene sentido que un nodo no tenga hojas, además, un nodo con mas de 50 hojas podría aumentar el riesgo de sobreajuste (aunque depende de la complejidad del dataset).\n",
        "\n",
        "- **min_child_weight:** Parámetro de XGBRegressor() asociado a la complejidad del árbol. Corresponde a la suma define la suma mínima de pesos de instancia que deben estar presentes en un nodo secundario en cada árbol (evitando división de nodos si el peso de las instancias es menor a este valor). Un mayor valor puede disminuir el riesgo de sobreajuste al \"crear divisiones de nodos\" solo si los datos lo justifican lo suficiente. El rango de optimización de 1 a 5 parece razonable ya que asi se se tiene suficiente flexibilidad para la cantidad de instancias sin comprometer un sobreajuste del modelo. \n",
        "\n",
        "- **reg_alpha:** Parámetro de XGBRegressor() asociado a la regularización L1. Ayuda a evitar el sobreajuste penalizando los pesos grandes. Un valor más alto da lugar a un modelo más regularizado. El rango de optimización de 0 a 1 parece un rango de exploración válido para la optimzación de parámetros dado que va desde un modelo con nula regularización a un modelo con mayor regularización (apto para modelos complejos dada la gran cantidad de features), asi se permite simplificar el modelo evitando el sobreajuste considerando que valores mayores a 1 podrían resultar en una regularización excesiva y baja capacidad de generalización del modelo. \n",
        "\n",
        "- **reg_lambda:** Parámetro de XGBRegressor() asociado a la regularización L2. Ayuda a evitar el sobreajuste penalizando los pesos grandes de forma cuadrática.  Un valor más alto da lugar a un modelo más regularizado ayudando a evitar el sobreajuste. El rango de optimización de 0 a 1 parece un rango de exploración válido para la optimzación de parámetros por los motivos análogos a reg_alpha.\n",
        "\n",
        "- **min_frequency:** Parámetro de OneHotEconder(), corresponde a la frecuencia mínima de una categoria para que esta sea codificada. Un valor más alto disminuye la complejidad de la codificación y permite manejar categorias poco frecuentes en el dataset. El rango de optimización de 0 a 1 podría tener un valor mínimo de 0.05 dado que no tiene sentido fijar el parámetro menor a 0.05, esto sería codificar categorias de variables con una frecuencia menor al 5%.\n",
        "\n",
        "En relación a los resultados obtenidos se obtuvo un MAE de 6547, menor al mejor rendimiento que se tenia (XGBRegressor sin optimización de parámetros y sin restricción de relación con un MAE de 7012). El resultado anterior se obtuvo despues de 165 iteraciones de ajuste de hiperparámetros considerando un tiempo límite de 5 minutos. En este caso, podemos notar que la optimización de parámetros si implico una mejora considerable con respecto al modelo del baseline. En particular, se reportaron los siguientes parámetros óptimos:\n",
        "\n",
        "-   **learning_rate':** 0.08855968023444559\n",
        "-   **'n_estimators':** 734\n",
        "-   **'max_depth':** 4\n",
        "-   **'max_leaves':** 6\n",
        "-   **'min_child_weight':** 4\n",
        "-   **'reg_alpha':** 0.10242482571077649\n",
        "-   **'reg_lambda':** 0.017327249149241303\n",
        "-   **'min_frequency':** 0.14359042482925244\n",
        "\n",
        "Podemos asociar esta mejora del rendimiento del modelo a la inclusión de la optimización de parámetros considerando que se itera en múltiples grillas de combinaciones de estos buscando minimizar el MAE (optimizar el rendimiento), por lo anterior, a medida que se aumente el número de iteraciones del modelo el MAE mínimo debería ir disminuyendo. Sin embargo, cabe destacar que si se \"optimiza demasiado\" el rendimiento del modelo en función del ajuste de estos hiperparámetros, el modelo tiene mayor riesgo de sobreajuste."
      ]
    },
    {
      "cell_type": "markdown",
      "metadata": {
        "cell_id": "5195ccfc37e044ad9453f6eb2754f631",
        "deepnote_cell_type": "markdown",
        "id": "ZglyD_QWI5wA"
      },
      "source": [
        "## 4. Optimización de Hiperparámetros con Optuna y Prunners (1.7)\n",
        "\n",
        "<p align=\"center\">\n",
        "  <img src=\"https://i.pinimg.com/originals/90/16/f9/9016f919c2259f3d0e8fe465049638a7.gif\">\n",
        "</p>\n",
        "\n",
        "Después de optimizar el rendimiento de su modelo varias veces, Fiu le pregunta si no es posible optimizar el entrenamiento del modelo en sí mismo. Después de leer un par de post de personas de dudosa reputación en la *deepweb*, usted llega a la conclusión que puede cumplir este objetivo mediante la implementación de **Prunning**.\n",
        "\n",
        "Vuelva a optimizar los mismos hiperparámetros que la sección pasada, pero esta vez utilizando **Prunning** en la optimización. En particular, usted debe:\n",
        "\n",
        "- Responder: ¿Qué es prunning? ¿De qué forma debería impactar en el entrenamiento?\n",
        "- Utilizar `optuna.integration.XGBoostPruningCallback` como método de **Prunning**\n",
        "- Fijar nuevamente el tiempo de entrenamiento a 5 minutos\n",
        "- Reportar el número de *trials*, el `MAE` y los mejores hiperparámetros encontrados. ¿Cómo cambian sus resultados con respecto a la sección anterior? ¿A qué se puede deber esto?\n",
        "- Guardar su modelo en un archivo .pkl\n",
        "\n",
        "Nota: Si quieren silenciar los prints obtenidos en el prunning, pueden hacerlo mediante el siguiente comando:\n",
        "\n",
        "```\n",
        "optuna.logging.set_verbosity(optuna.logging.WARNING)\n",
        "```\n",
        "\n",
        "De implementar la opción anterior, pueden especificar `show_progress_bar = True` en el método `optimize` para *más sabor*.\n",
        "\n",
        "Hint: Si quieren especificar parámetros del método .fit() del modelo a través del pipeline, pueden hacerlo por medio de la siguiente sintaxis: `pipeline.fit(stepmodelo__parametro = valor)`\n",
        "\n",
        "Hint2: Este <a href = https://stackoverflow.com/questions/40329576/sklearn-pass-fit-parameters-to-xgboost-in-pipeline>enlace</a> les puede ser de ayuda en su implementación"
      ]
    },
    {
      "cell_type": "code",
      "execution_count": 8,
      "metadata": {},
      "outputs": [
        {
          "data": {
            "application/vnd.jupyter.widget-view+json": {
              "model_id": "bbcc8cd46c744546917ff4306b264821",
              "version_major": 2,
              "version_minor": 0
            },
            "text/plain": [
              "   0%|          | 00:00/05:00"
            ]
          },
          "metadata": {},
          "output_type": "display_data"
        },
        {
          "name": "stdout",
          "output_type": "stream",
          "text": [
            "Best parameters: {'learning_rate': 0.08778352201499837, 'n_estimators': 616, 'max_depth': 3, 'max_leaves': 100, 'min_child_weight': 3, 'reg_alpha': 0.7882937674472155, 'reg_lambda': 0.5173525652140668, 'min_frequency': 0.1622591111294117}\n",
            "Best value: 6512.389083748602\n",
            "Number_trials: 74\n"
          ]
        }
      ],
      "source": [
        "# Funcion para optimizar parametros del modelo con prunning --------------------------------------------------------------------------------------------------------------------------------------------\n",
        "def optimize_function_prunning(trial):\n",
        "    params_xgb = {\n",
        "        \"learning_rate\": trial.suggest_float(\"learning_rate\", 0.001, 0.1),\n",
        "        \"n_estimators\": trial.suggest_int(\"n_estimators\", 50, 1000),\n",
        "        \"max_depth\": trial.suggest_int(\"max_depth\", 3, 10),\n",
        "        \"max_leaves\": trial.suggest_int(\"max_leaves\", 0, 100),\n",
        "        \"min_child_weight\": trial.suggest_int(\"min_child_weight\", 1, 5),\n",
        "        \"reg_alpha\": trial.suggest_float(\"reg_alpha\", 0, 1),\n",
        "        \"reg_lambda\": trial.suggest_float(\"reg_lambda\", 0, 1)\n",
        "    }\n",
        "    params_onehot = {\n",
        "        \"min_frequency\": trial.suggest_float(\"min_frequency\", 0.1, 1),\n",
        "    }\n",
        "    preprocessor = ColumnTransformer([\n",
        "    ('Numerical_cols', PowerTransformer(), numerical_cols),\n",
        "    ('Categorical_cols', OneHotEncoder(sparse_output=True, **params_onehot), categorical_cols)\n",
        "])\n",
        "    pipeline = Pipeline([\n",
        "    # Implementación de FuncionTransformer en columna 'date'\n",
        "        ('Transform_date', FunctionTransformer(transform_date)),\n",
        "    # Implementación de ColumnTransformer en columnas numericas y categoricas\n",
        "        ('Preprocessor', preprocessor),\n",
        "    # Implementación de FunctionTransformer para transformar el output a df\n",
        "        ('Convert_df', FunctionTransformer(\n",
        "        lambda X: pd.DataFrame(X, columns=numerical_cols + preprocessor.transformers_[1][1].get_feature_names_out().tolist())))\n",
        "        ])\n",
        "    pruning_callback = optuna.integration.XGBoostPruningCallback(trial, \"validation_0-mae\")\n",
        "\n",
        "    # Entrenar el preprocesador\n",
        "    pipeline.fit(X_train)\n",
        "\n",
        "    X_train_transformed = pipeline.transform(X_train)\n",
        "    X_val_transformed = pipeline.transform(X_val)\n",
        "    \n",
        "    # Definir el modelo como un pipeline separado\n",
        "    model = XGBRegressor(seed=42,eval_metric='mae', **params_xgb)\n",
        "\n",
        "    # Entrenar el modelo\n",
        "    model.fit(X_train_transformed, Y_train, callbacks=[pruning_callback], eval_set=[(X_train_transformed, Y_train), (X_val_transformed, Y_val)], verbose=False)\n",
        "\n",
        "    # Predict y evaluar el modelo\n",
        "    X_val_transformed = pipeline.transform(X_val)\n",
        "    Y_val_preds = model.predict(X_val_transformed)\n",
        "\n",
        "    # Calculo de MAE\n",
        "    MAE_val = mean_absolute_error(Y_val, Y_val_preds)\n",
        "    #print(f'MAE en particion de validación (XGBRegressor con optimización de parámetros y prunning): {MAE_val}')\n",
        "    return MAE_val\n",
        "\n",
        "\n",
        "#  Implementacion -----------------------------------------------------------------------------------------------------------------------------------------------------------------------\n",
        "study_prunning = optuna.create_study(direction=\"minimize\", sampler=optuna.samplers.TPESampler(seed=42), )\n",
        "study_prunning.optimize(optimize_function_prunning, timeout=300, show_progress_bar=True)\n",
        "\n",
        "\n",
        "# Obtencion de parámetros optimos, MAE óptimo y cantidad de intentos --------------------------------------------------------------------------------------------------------------------\n",
        "print('Best parameters:', study_prunning.best_params)\n",
        "print('Best value:', study_prunning.best_value)\n",
        "print('Number_trials:', len(study_prunning.trials))\n",
        "MAE_val_xgbregressor_opt_prunning = study_prunning.best_value"
      ]
    },
    {
      "cell_type": "markdown",
      "metadata": {},
      "source": [
        "\n",
        "El \"pruning\" (\"poda\" en español) es una técnica enfocada en mejorar la eficiencia de algoritmos de optimización, especialmente en el contexto del ajuste de hiperparámetros de modelos. Consiste en eliminar \"tempranamente\" aquellas iteraciones en las que las configuraciones de hiperparámetros tengan pocas probabilidades de producir mejores resultados en función del historial de resultados en las iteraciones anteriores. Esto permite concentrar los recursos computacionales en las configuraciones más prometedoras.\n",
        "\n",
        "En este caso, se implementa prunning sobre la optimización de parámetros de optuna sobre el XGBRegressor. En particular, notamos inmediatamente que la velocidad promedio de entrenamiento por iteración tiende a ser mucho menor  y además, es de esperar que se obtengan menores MAE \"mínimos\" (óptimos) dado que puede realizar mayor cantidad de iteraciones en menor tiempo y que estas tienden a retornar un mejor rendimiento del modelo con el ajuste de sus hiperparámetros. Por lo tanto, el prunning en el entrenamiento reduce los tiempos de ejecución, acelera la convergencia al conjunto de parámetros óptimos y deberia retorna un MAE menor (despues vemos que no es así pipipi).\n",
        "\n",
        "Notamos que en comparación con el mismo modelo sin prunning, se tiene una mayor cantidad de iteraciones y un menor MAE tal como se esperaba.\n"
      ]
    },
    {
      "cell_type": "markdown",
      "metadata": {
        "cell_id": "8a081778cc704fc6bed05393a5419327",
        "deepnote_cell_type": "markdown",
        "id": "ZMiiVaCUI5wA"
      },
      "source": [
        "## 5. Visualizaciones (0.5 puntos)\n",
        "\n",
        "<p align=\"center\">\n",
        "  <img src=\"https://media.tenor.com/F-LgB1xTebEAAAAd/look-at-this-graph-nickelback.gif\">\n",
        "</p>\n",
        "\n",
        "\n",
        "Satisfecho con su trabajo, Fiu le pregunta si es posible generar visualizaciones que permitan entender el entrenamiento de su modelo.\n",
        "\n",
        "A partir del siguiente <a href = https://optuna.readthedocs.io/en/stable/tutorial/10_key_features/005_visualization.html#visualization>enlace</a>, genere las siguientes visualizaciones:\n",
        "\n",
        "1. Gráfico de historial de optimización\n",
        "2. Gráfico de coordenadas paralelas\n",
        "3. Gráfico de importancia de hiperparámetros\n",
        "\n",
        "Comente sus resultados:\n",
        "\n",
        "4. ¿Desde qué *trial* se empiezan a observar mejoras notables en sus resultados?\n",
        "5. ¿Qué tendencias puede observar a partir del gráfico de coordenadas paralelas?\n",
        "6. ¿Cuáles son los hiperparámetros con mayor importancia para la optimización de su modelo?"
      ]
    },
    {
      "cell_type": "code",
      "execution_count": 9,
      "metadata": {
        "cell_id": "0e706dc9a8d946eda7a9eb1f0463c6d7",
        "deepnote_cell_type": "code",
        "id": "xjxAEENAI5wA"
      },
      "outputs": [
        {
          "data": {
            "application/vnd.plotly.v1+json": {
              "config": {
                "plotlyServerURL": "https://plot.ly"
              },
              "data": [
                {
                  "mode": "markers",
                  "name": "Objective Value",
                  "type": "scatter",
                  "x": [
                    0,
                    1,
                    2,
                    3,
                    4,
                    6,
                    13,
                    14,
                    15,
                    17,
                    19,
                    21,
                    25,
                    27,
                    28,
                    37,
                    41,
                    42,
                    46,
                    51,
                    53,
                    63,
                    69,
                    72,
                    73
                  ],
                  "y": [
                    9530.972691543056,
                    7250.735565867758,
                    8914.464567590932,
                    7425.133109398286,
                    9001.666295058681,
                    9069.160633979718,
                    6601.953294552208,
                    6527.507001123557,
                    6876.598195469682,
                    7253.974071974549,
                    6513.02822171025,
                    6512.389083748602,
                    6725.4952558128025,
                    7375.47346617106,
                    7218.00026342446,
                    7324.935220687115,
                    6759.252623693065,
                    6844.665004497136,
                    7201.388955674833,
                    6726.832152774544,
                    6778.136725663073,
                    6747.758844185159,
                    7855.8677167139185,
                    6735.732073310591,
                    7186.647160400755
                  ]
                },
                {
                  "mode": "lines",
                  "name": "Best Value",
                  "type": "scatter",
                  "x": [
                    0,
                    1,
                    2,
                    3,
                    4,
                    5,
                    6,
                    7,
                    8,
                    9,
                    10,
                    11,
                    12,
                    13,
                    14,
                    15,
                    16,
                    17,
                    18,
                    19,
                    20,
                    21,
                    22,
                    23,
                    24,
                    25,
                    26,
                    27,
                    28,
                    29,
                    30,
                    31,
                    32,
                    33,
                    34,
                    35,
                    36,
                    37,
                    38,
                    39,
                    40,
                    41,
                    42,
                    43,
                    44,
                    45,
                    46,
                    47,
                    48,
                    49,
                    50,
                    51,
                    52,
                    53,
                    54,
                    55,
                    56,
                    57,
                    58,
                    59,
                    60,
                    61,
                    62,
                    63,
                    64,
                    65,
                    66,
                    67,
                    68,
                    69,
                    70,
                    71,
                    72,
                    73
                  ],
                  "y": [
                    9530.972691543056,
                    7250.735565867758,
                    7250.735565867758,
                    7250.735565867758,
                    7250.735565867758,
                    7250.735565867758,
                    7250.735565867758,
                    7250.735565867758,
                    7250.735565867758,
                    7250.735565867758,
                    7250.735565867758,
                    7250.735565867758,
                    7250.735565867758,
                    6601.953294552208,
                    6527.507001123557,
                    6527.507001123557,
                    6527.507001123557,
                    6527.507001123557,
                    6527.507001123557,
                    6513.02822171025,
                    6513.02822171025,
                    6512.389083748602,
                    6512.389083748602,
                    6512.389083748602,
                    6512.389083748602,
                    6512.389083748602,
                    6512.389083748602,
                    6512.389083748602,
                    6512.389083748602,
                    6512.389083748602,
                    6512.389083748602,
                    6512.389083748602,
                    6512.389083748602,
                    6512.389083748602,
                    6512.389083748602,
                    6512.389083748602,
                    6512.389083748602,
                    6512.389083748602,
                    6512.389083748602,
                    6512.389083748602,
                    6512.389083748602,
                    6512.389083748602,
                    6512.389083748602,
                    6512.389083748602,
                    6512.389083748602,
                    6512.389083748602,
                    6512.389083748602,
                    6512.389083748602,
                    6512.389083748602,
                    6512.389083748602,
                    6512.389083748602,
                    6512.389083748602,
                    6512.389083748602,
                    6512.389083748602,
                    6512.389083748602,
                    6512.389083748602,
                    6512.389083748602,
                    6512.389083748602,
                    6512.389083748602,
                    6512.389083748602,
                    6512.389083748602,
                    6512.389083748602,
                    6512.389083748602,
                    6512.389083748602,
                    6512.389083748602,
                    6512.389083748602,
                    6512.389083748602,
                    6512.389083748602,
                    6512.389083748602,
                    6512.389083748602,
                    6512.389083748602,
                    6512.389083748602,
                    6512.389083748602,
                    6512.389083748602
                  ]
                },
                {
                  "marker": {
                    "color": "#cccccc"
                  },
                  "mode": "markers",
                  "name": "Infeasible Trial",
                  "showlegend": false,
                  "type": "scatter",
                  "x": [],
                  "y": []
                }
              ],
              "layout": {
                "template": {
                  "data": {
                    "bar": [
                      {
                        "error_x": {
                          "color": "#2a3f5f"
                        },
                        "error_y": {
                          "color": "#2a3f5f"
                        },
                        "marker": {
                          "line": {
                            "color": "#E5ECF6",
                            "width": 0.5
                          },
                          "pattern": {
                            "fillmode": "overlay",
                            "size": 10,
                            "solidity": 0.2
                          }
                        },
                        "type": "bar"
                      }
                    ],
                    "barpolar": [
                      {
                        "marker": {
                          "line": {
                            "color": "#E5ECF6",
                            "width": 0.5
                          },
                          "pattern": {
                            "fillmode": "overlay",
                            "size": 10,
                            "solidity": 0.2
                          }
                        },
                        "type": "barpolar"
                      }
                    ],
                    "carpet": [
                      {
                        "aaxis": {
                          "endlinecolor": "#2a3f5f",
                          "gridcolor": "white",
                          "linecolor": "white",
                          "minorgridcolor": "white",
                          "startlinecolor": "#2a3f5f"
                        },
                        "baxis": {
                          "endlinecolor": "#2a3f5f",
                          "gridcolor": "white",
                          "linecolor": "white",
                          "minorgridcolor": "white",
                          "startlinecolor": "#2a3f5f"
                        },
                        "type": "carpet"
                      }
                    ],
                    "choropleth": [
                      {
                        "colorbar": {
                          "outlinewidth": 0,
                          "ticks": ""
                        },
                        "type": "choropleth"
                      }
                    ],
                    "contour": [
                      {
                        "colorbar": {
                          "outlinewidth": 0,
                          "ticks": ""
                        },
                        "colorscale": [
                          [
                            0,
                            "#0d0887"
                          ],
                          [
                            0.1111111111111111,
                            "#46039f"
                          ],
                          [
                            0.2222222222222222,
                            "#7201a8"
                          ],
                          [
                            0.3333333333333333,
                            "#9c179e"
                          ],
                          [
                            0.4444444444444444,
                            "#bd3786"
                          ],
                          [
                            0.5555555555555556,
                            "#d8576b"
                          ],
                          [
                            0.6666666666666666,
                            "#ed7953"
                          ],
                          [
                            0.7777777777777778,
                            "#fb9f3a"
                          ],
                          [
                            0.8888888888888888,
                            "#fdca26"
                          ],
                          [
                            1,
                            "#f0f921"
                          ]
                        ],
                        "type": "contour"
                      }
                    ],
                    "contourcarpet": [
                      {
                        "colorbar": {
                          "outlinewidth": 0,
                          "ticks": ""
                        },
                        "type": "contourcarpet"
                      }
                    ],
                    "heatmap": [
                      {
                        "colorbar": {
                          "outlinewidth": 0,
                          "ticks": ""
                        },
                        "colorscale": [
                          [
                            0,
                            "#0d0887"
                          ],
                          [
                            0.1111111111111111,
                            "#46039f"
                          ],
                          [
                            0.2222222222222222,
                            "#7201a8"
                          ],
                          [
                            0.3333333333333333,
                            "#9c179e"
                          ],
                          [
                            0.4444444444444444,
                            "#bd3786"
                          ],
                          [
                            0.5555555555555556,
                            "#d8576b"
                          ],
                          [
                            0.6666666666666666,
                            "#ed7953"
                          ],
                          [
                            0.7777777777777778,
                            "#fb9f3a"
                          ],
                          [
                            0.8888888888888888,
                            "#fdca26"
                          ],
                          [
                            1,
                            "#f0f921"
                          ]
                        ],
                        "type": "heatmap"
                      }
                    ],
                    "heatmapgl": [
                      {
                        "colorbar": {
                          "outlinewidth": 0,
                          "ticks": ""
                        },
                        "colorscale": [
                          [
                            0,
                            "#0d0887"
                          ],
                          [
                            0.1111111111111111,
                            "#46039f"
                          ],
                          [
                            0.2222222222222222,
                            "#7201a8"
                          ],
                          [
                            0.3333333333333333,
                            "#9c179e"
                          ],
                          [
                            0.4444444444444444,
                            "#bd3786"
                          ],
                          [
                            0.5555555555555556,
                            "#d8576b"
                          ],
                          [
                            0.6666666666666666,
                            "#ed7953"
                          ],
                          [
                            0.7777777777777778,
                            "#fb9f3a"
                          ],
                          [
                            0.8888888888888888,
                            "#fdca26"
                          ],
                          [
                            1,
                            "#f0f921"
                          ]
                        ],
                        "type": "heatmapgl"
                      }
                    ],
                    "histogram": [
                      {
                        "marker": {
                          "pattern": {
                            "fillmode": "overlay",
                            "size": 10,
                            "solidity": 0.2
                          }
                        },
                        "type": "histogram"
                      }
                    ],
                    "histogram2d": [
                      {
                        "colorbar": {
                          "outlinewidth": 0,
                          "ticks": ""
                        },
                        "colorscale": [
                          [
                            0,
                            "#0d0887"
                          ],
                          [
                            0.1111111111111111,
                            "#46039f"
                          ],
                          [
                            0.2222222222222222,
                            "#7201a8"
                          ],
                          [
                            0.3333333333333333,
                            "#9c179e"
                          ],
                          [
                            0.4444444444444444,
                            "#bd3786"
                          ],
                          [
                            0.5555555555555556,
                            "#d8576b"
                          ],
                          [
                            0.6666666666666666,
                            "#ed7953"
                          ],
                          [
                            0.7777777777777778,
                            "#fb9f3a"
                          ],
                          [
                            0.8888888888888888,
                            "#fdca26"
                          ],
                          [
                            1,
                            "#f0f921"
                          ]
                        ],
                        "type": "histogram2d"
                      }
                    ],
                    "histogram2dcontour": [
                      {
                        "colorbar": {
                          "outlinewidth": 0,
                          "ticks": ""
                        },
                        "colorscale": [
                          [
                            0,
                            "#0d0887"
                          ],
                          [
                            0.1111111111111111,
                            "#46039f"
                          ],
                          [
                            0.2222222222222222,
                            "#7201a8"
                          ],
                          [
                            0.3333333333333333,
                            "#9c179e"
                          ],
                          [
                            0.4444444444444444,
                            "#bd3786"
                          ],
                          [
                            0.5555555555555556,
                            "#d8576b"
                          ],
                          [
                            0.6666666666666666,
                            "#ed7953"
                          ],
                          [
                            0.7777777777777778,
                            "#fb9f3a"
                          ],
                          [
                            0.8888888888888888,
                            "#fdca26"
                          ],
                          [
                            1,
                            "#f0f921"
                          ]
                        ],
                        "type": "histogram2dcontour"
                      }
                    ],
                    "mesh3d": [
                      {
                        "colorbar": {
                          "outlinewidth": 0,
                          "ticks": ""
                        },
                        "type": "mesh3d"
                      }
                    ],
                    "parcoords": [
                      {
                        "line": {
                          "colorbar": {
                            "outlinewidth": 0,
                            "ticks": ""
                          }
                        },
                        "type": "parcoords"
                      }
                    ],
                    "pie": [
                      {
                        "automargin": true,
                        "type": "pie"
                      }
                    ],
                    "scatter": [
                      {
                        "fillpattern": {
                          "fillmode": "overlay",
                          "size": 10,
                          "solidity": 0.2
                        },
                        "type": "scatter"
                      }
                    ],
                    "scatter3d": [
                      {
                        "line": {
                          "colorbar": {
                            "outlinewidth": 0,
                            "ticks": ""
                          }
                        },
                        "marker": {
                          "colorbar": {
                            "outlinewidth": 0,
                            "ticks": ""
                          }
                        },
                        "type": "scatter3d"
                      }
                    ],
                    "scattercarpet": [
                      {
                        "marker": {
                          "colorbar": {
                            "outlinewidth": 0,
                            "ticks": ""
                          }
                        },
                        "type": "scattercarpet"
                      }
                    ],
                    "scattergeo": [
                      {
                        "marker": {
                          "colorbar": {
                            "outlinewidth": 0,
                            "ticks": ""
                          }
                        },
                        "type": "scattergeo"
                      }
                    ],
                    "scattergl": [
                      {
                        "marker": {
                          "colorbar": {
                            "outlinewidth": 0,
                            "ticks": ""
                          }
                        },
                        "type": "scattergl"
                      }
                    ],
                    "scattermapbox": [
                      {
                        "marker": {
                          "colorbar": {
                            "outlinewidth": 0,
                            "ticks": ""
                          }
                        },
                        "type": "scattermapbox"
                      }
                    ],
                    "scatterpolar": [
                      {
                        "marker": {
                          "colorbar": {
                            "outlinewidth": 0,
                            "ticks": ""
                          }
                        },
                        "type": "scatterpolar"
                      }
                    ],
                    "scatterpolargl": [
                      {
                        "marker": {
                          "colorbar": {
                            "outlinewidth": 0,
                            "ticks": ""
                          }
                        },
                        "type": "scatterpolargl"
                      }
                    ],
                    "scatterternary": [
                      {
                        "marker": {
                          "colorbar": {
                            "outlinewidth": 0,
                            "ticks": ""
                          }
                        },
                        "type": "scatterternary"
                      }
                    ],
                    "surface": [
                      {
                        "colorbar": {
                          "outlinewidth": 0,
                          "ticks": ""
                        },
                        "colorscale": [
                          [
                            0,
                            "#0d0887"
                          ],
                          [
                            0.1111111111111111,
                            "#46039f"
                          ],
                          [
                            0.2222222222222222,
                            "#7201a8"
                          ],
                          [
                            0.3333333333333333,
                            "#9c179e"
                          ],
                          [
                            0.4444444444444444,
                            "#bd3786"
                          ],
                          [
                            0.5555555555555556,
                            "#d8576b"
                          ],
                          [
                            0.6666666666666666,
                            "#ed7953"
                          ],
                          [
                            0.7777777777777778,
                            "#fb9f3a"
                          ],
                          [
                            0.8888888888888888,
                            "#fdca26"
                          ],
                          [
                            1,
                            "#f0f921"
                          ]
                        ],
                        "type": "surface"
                      }
                    ],
                    "table": [
                      {
                        "cells": {
                          "fill": {
                            "color": "#EBF0F8"
                          },
                          "line": {
                            "color": "white"
                          }
                        },
                        "header": {
                          "fill": {
                            "color": "#C8D4E3"
                          },
                          "line": {
                            "color": "white"
                          }
                        },
                        "type": "table"
                      }
                    ]
                  },
                  "layout": {
                    "annotationdefaults": {
                      "arrowcolor": "#2a3f5f",
                      "arrowhead": 0,
                      "arrowwidth": 1
                    },
                    "autotypenumbers": "strict",
                    "coloraxis": {
                      "colorbar": {
                        "outlinewidth": 0,
                        "ticks": ""
                      }
                    },
                    "colorscale": {
                      "diverging": [
                        [
                          0,
                          "#8e0152"
                        ],
                        [
                          0.1,
                          "#c51b7d"
                        ],
                        [
                          0.2,
                          "#de77ae"
                        ],
                        [
                          0.3,
                          "#f1b6da"
                        ],
                        [
                          0.4,
                          "#fde0ef"
                        ],
                        [
                          0.5,
                          "#f7f7f7"
                        ],
                        [
                          0.6,
                          "#e6f5d0"
                        ],
                        [
                          0.7,
                          "#b8e186"
                        ],
                        [
                          0.8,
                          "#7fbc41"
                        ],
                        [
                          0.9,
                          "#4d9221"
                        ],
                        [
                          1,
                          "#276419"
                        ]
                      ],
                      "sequential": [
                        [
                          0,
                          "#0d0887"
                        ],
                        [
                          0.1111111111111111,
                          "#46039f"
                        ],
                        [
                          0.2222222222222222,
                          "#7201a8"
                        ],
                        [
                          0.3333333333333333,
                          "#9c179e"
                        ],
                        [
                          0.4444444444444444,
                          "#bd3786"
                        ],
                        [
                          0.5555555555555556,
                          "#d8576b"
                        ],
                        [
                          0.6666666666666666,
                          "#ed7953"
                        ],
                        [
                          0.7777777777777778,
                          "#fb9f3a"
                        ],
                        [
                          0.8888888888888888,
                          "#fdca26"
                        ],
                        [
                          1,
                          "#f0f921"
                        ]
                      ],
                      "sequentialminus": [
                        [
                          0,
                          "#0d0887"
                        ],
                        [
                          0.1111111111111111,
                          "#46039f"
                        ],
                        [
                          0.2222222222222222,
                          "#7201a8"
                        ],
                        [
                          0.3333333333333333,
                          "#9c179e"
                        ],
                        [
                          0.4444444444444444,
                          "#bd3786"
                        ],
                        [
                          0.5555555555555556,
                          "#d8576b"
                        ],
                        [
                          0.6666666666666666,
                          "#ed7953"
                        ],
                        [
                          0.7777777777777778,
                          "#fb9f3a"
                        ],
                        [
                          0.8888888888888888,
                          "#fdca26"
                        ],
                        [
                          1,
                          "#f0f921"
                        ]
                      ]
                    },
                    "colorway": [
                      "#636efa",
                      "#EF553B",
                      "#00cc96",
                      "#ab63fa",
                      "#FFA15A",
                      "#19d3f3",
                      "#FF6692",
                      "#B6E880",
                      "#FF97FF",
                      "#FECB52"
                    ],
                    "font": {
                      "color": "#2a3f5f"
                    },
                    "geo": {
                      "bgcolor": "white",
                      "lakecolor": "white",
                      "landcolor": "#E5ECF6",
                      "showlakes": true,
                      "showland": true,
                      "subunitcolor": "white"
                    },
                    "hoverlabel": {
                      "align": "left"
                    },
                    "hovermode": "closest",
                    "mapbox": {
                      "style": "light"
                    },
                    "paper_bgcolor": "white",
                    "plot_bgcolor": "#E5ECF6",
                    "polar": {
                      "angularaxis": {
                        "gridcolor": "white",
                        "linecolor": "white",
                        "ticks": ""
                      },
                      "bgcolor": "#E5ECF6",
                      "radialaxis": {
                        "gridcolor": "white",
                        "linecolor": "white",
                        "ticks": ""
                      }
                    },
                    "scene": {
                      "xaxis": {
                        "backgroundcolor": "#E5ECF6",
                        "gridcolor": "white",
                        "gridwidth": 2,
                        "linecolor": "white",
                        "showbackground": true,
                        "ticks": "",
                        "zerolinecolor": "white"
                      },
                      "yaxis": {
                        "backgroundcolor": "#E5ECF6",
                        "gridcolor": "white",
                        "gridwidth": 2,
                        "linecolor": "white",
                        "showbackground": true,
                        "ticks": "",
                        "zerolinecolor": "white"
                      },
                      "zaxis": {
                        "backgroundcolor": "#E5ECF6",
                        "gridcolor": "white",
                        "gridwidth": 2,
                        "linecolor": "white",
                        "showbackground": true,
                        "ticks": "",
                        "zerolinecolor": "white"
                      }
                    },
                    "shapedefaults": {
                      "line": {
                        "color": "#2a3f5f"
                      }
                    },
                    "ternary": {
                      "aaxis": {
                        "gridcolor": "white",
                        "linecolor": "white",
                        "ticks": ""
                      },
                      "baxis": {
                        "gridcolor": "white",
                        "linecolor": "white",
                        "ticks": ""
                      },
                      "bgcolor": "#E5ECF6",
                      "caxis": {
                        "gridcolor": "white",
                        "linecolor": "white",
                        "ticks": ""
                      }
                    },
                    "title": {
                      "x": 0.05
                    },
                    "xaxis": {
                      "automargin": true,
                      "gridcolor": "white",
                      "linecolor": "white",
                      "ticks": "",
                      "title": {
                        "standoff": 15
                      },
                      "zerolinecolor": "white",
                      "zerolinewidth": 2
                    },
                    "yaxis": {
                      "automargin": true,
                      "gridcolor": "white",
                      "linecolor": "white",
                      "ticks": "",
                      "title": {
                        "standoff": 15
                      },
                      "zerolinecolor": "white",
                      "zerolinewidth": 2
                    }
                  }
                },
                "title": {
                  "text": "Optimization History Plot"
                },
                "xaxis": {
                  "title": {
                    "text": "Trial"
                  }
                },
                "yaxis": {
                  "title": {
                    "text": "Objective Value"
                  }
                }
              }
            }
          },
          "metadata": {},
          "output_type": "display_data"
        }
      ],
      "source": [
        "# 1. Grafico de historial de optimización ------------------------------------------------------\n",
        "plot_optimization_history(study_prunning)"
      ]
    },
    {
      "cell_type": "code",
      "execution_count": 10,
      "metadata": {},
      "outputs": [
        {
          "data": {
            "application/vnd.plotly.v1+json": {
              "config": {
                "plotlyServerURL": "https://plot.ly"
              },
              "data": [
                {
                  "dimensions": [
                    {
                      "label": "Objective Value",
                      "range": [
                        6512.389083748602,
                        9530.972691543056
                      ],
                      "values": [
                        9530.972691543056,
                        7250.735565867758,
                        8914.464567590932,
                        7425.133109398286,
                        9001.666295058681,
                        9069.160633979718,
                        6601.953294552208,
                        6527.507001123557,
                        6876.598195469682,
                        7253.974071974549,
                        6513.02822171025,
                        6512.389083748602,
                        6725.4952558128025,
                        7375.47346617106,
                        7218.00026342446,
                        7324.935220687115,
                        6759.252623693065,
                        6844.665004497136,
                        7201.388955674833,
                        6726.832152774544,
                        6778.136725663073,
                        6747.758844185159,
                        7855.8677167139185,
                        6735.732073310591,
                        7186.647160400755
                      ]
                    },
                    {
                      "label": "learning_rate",
                      "range": [
                        0.0074401077055426725,
                        0.09989006159786987
                      ],
                      "values": [
                        0.03807947176588889,
                        0.06051038616257767,
                        0.03111998205299424,
                        0.04615092843748656,
                        0.0074401077055426725,
                        0.05512431765498469,
                        0.04976275964784714,
                        0.0816635881814849,
                        0.09989006159786987,
                        0.077472813016042,
                        0.09981636743726968,
                        0.08778352201499837,
                        0.0918585145555208,
                        0.0827716095262859,
                        0.09516970487184592,
                        0.09342801848275065,
                        0.09181212465663165,
                        0.09608342164976649,
                        0.0928925935509861,
                        0.09128742719808584,
                        0.09612704351973553,
                        0.09888593671040977,
                        0.0842637508590764,
                        0.09267096628362399,
                        0.09452552633684709
                      ]
                    },
                    {
                      "label": "max_depth",
                      "range": [
                        3,
                        10
                      ],
                      "values": [
                        8,
                        3,
                        6,
                        4,
                        10,
                        10,
                        4,
                        3,
                        5,
                        7,
                        3,
                        3,
                        4,
                        9,
                        6,
                        7,
                        4,
                        4,
                        6,
                        4,
                        4,
                        4,
                        9,
                        4,
                        6
                      ]
                    },
                    {
                      "label": "max_leaves",
                      "range": [
                        29,
                        100
                      ],
                      "values": [
                        60,
                        97,
                        29,
                        51,
                        81,
                        78,
                        100,
                        100,
                        100,
                        89,
                        88,
                        100,
                        73,
                        73,
                        53,
                        91,
                        74,
                        92,
                        76,
                        74,
                        89,
                        92,
                        92,
                        80,
                        80
                      ]
                    },
                    {
                      "label": "min_child_weight",
                      "range": [
                        1,
                        5
                      ],
                      "values": [
                        1,
                        5,
                        4,
                        3,
                        2,
                        5,
                        3,
                        4,
                        3,
                        4,
                        2,
                        3,
                        2,
                        3,
                        3,
                        3,
                        2,
                        2,
                        3,
                        2,
                        2,
                        2,
                        1,
                        2,
                        2
                      ]
                    },
                    {
                      "label": "min_frequency",
                      "range": [
                        0.10109693107037074,
                        0.9296868115208051
                      ],
                      "values": [
                        0.8795585311974417,
                        0.2650640588680905,
                        0.4297256589643226,
                        0.2534717113185624,
                        0.4961372443656412,
                        0.9296868115208051,
                        0.10402303552881628,
                        0.10149582671638994,
                        0.10217255932991494,
                        0.17626905414944985,
                        0.1811566476526848,
                        0.1622591111294117,
                        0.1660019624929938,
                        0.24499192564694516,
                        0.15694227363189342,
                        0.10291184157660686,
                        0.16338853706146347,
                        0.18057529203984837,
                        0.13701194574788186,
                        0.15709508098289415,
                        0.10109693107037074,
                        0.18137334161439406,
                        0.31710484900069813,
                        0.15778730425329235,
                        0.1982229921875396
                      ]
                    },
                    {
                      "label": "n_estimators",
                      "range": [
                        87,
                        954
                      ],
                      "values": [
                        954,
                        723,
                        549,
                        796,
                        952,
                        225,
                        753,
                        669,
                        469,
                        645,
                        393,
                        616,
                        621,
                        87,
                        653,
                        509,
                        612,
                        769,
                        603,
                        611,
                        582,
                        596,
                        262,
                        560,
                        497
                      ]
                    },
                    {
                      "label": "reg_alpha",
                      "range": [
                        0.046450412719997725,
                        0.9085426684012277
                      ],
                      "values": [
                        0.15599452033620265,
                        0.21233911067827616,
                        0.13949386065204183,
                        0.046450412719997725,
                        0.09767211400638387,
                        0.8948273504276488,
                        0.6608557252922869,
                        0.7267506372103787,
                        0.6590286048089737,
                        0.793663617123091,
                        0.8221173258714004,
                        0.7882937674472155,
                        0.5040294424758904,
                        0.8819862219014094,
                        0.7358047325556342,
                        0.481300670748322,
                        0.39006886108605876,
                        0.5020446850192295,
                        0.6379993412238251,
                        0.44348159862645303,
                        0.4379515956110597,
                        0.7944083709674697,
                        0.9085426684012277,
                        0.32101275984339755,
                        0.8105734582117559
                      ]
                    },
                    {
                      "label": "reg_lambda",
                      "range": [
                        0.009253227605087844,
                        0.6842330265121569
                      ],
                      "values": [
                        0.05808361216819946,
                        0.18182496720710062,
                        0.29214464853521815,
                        0.6075448519014384,
                        0.6842330265121569,
                        0.5978999788110851,
                        0.48413622534481515,
                        0.1669907218738228,
                        0.1505937270491114,
                        0.16665063221851845,
                        0.5639746990214333,
                        0.5173525652140668,
                        0.265810726983916,
                        0.41955938505786294,
                        0.5306556833646568,
                        0.2284572987418904,
                        0.28915043897117515,
                        0.2686115608459493,
                        0.009253227605087844,
                        0.27123584770079207,
                        0.3342791581722554,
                        0.20068068525814456,
                        0.24112803728284965,
                        0.2840918726481647,
                        0.14064413913882418
                      ]
                    }
                  ],
                  "labelangle": 30,
                  "labelside": "bottom",
                  "line": {
                    "color": [
                      9530.972691543056,
                      7250.735565867758,
                      8914.464567590932,
                      7425.133109398286,
                      9001.666295058681,
                      9069.160633979718,
                      6601.953294552208,
                      6527.507001123557,
                      6876.598195469682,
                      7253.974071974549,
                      6513.02822171025,
                      6512.389083748602,
                      6725.4952558128025,
                      7375.47346617106,
                      7218.00026342446,
                      7324.935220687115,
                      6759.252623693065,
                      6844.665004497136,
                      7201.388955674833,
                      6726.832152774544,
                      6778.136725663073,
                      6747.758844185159,
                      7855.8677167139185,
                      6735.732073310591,
                      7186.647160400755
                    ],
                    "colorbar": {
                      "title": {
                        "text": "Objective Value"
                      }
                    },
                    "colorscale": [
                      [
                        0,
                        "rgb(247,251,255)"
                      ],
                      [
                        0.125,
                        "rgb(222,235,247)"
                      ],
                      [
                        0.25,
                        "rgb(198,219,239)"
                      ],
                      [
                        0.375,
                        "rgb(158,202,225)"
                      ],
                      [
                        0.5,
                        "rgb(107,174,214)"
                      ],
                      [
                        0.625,
                        "rgb(66,146,198)"
                      ],
                      [
                        0.75,
                        "rgb(33,113,181)"
                      ],
                      [
                        0.875,
                        "rgb(8,81,156)"
                      ],
                      [
                        1,
                        "rgb(8,48,107)"
                      ]
                    ],
                    "reversescale": true,
                    "showscale": true
                  },
                  "type": "parcoords"
                }
              ],
              "layout": {
                "template": {
                  "data": {
                    "bar": [
                      {
                        "error_x": {
                          "color": "#2a3f5f"
                        },
                        "error_y": {
                          "color": "#2a3f5f"
                        },
                        "marker": {
                          "line": {
                            "color": "#E5ECF6",
                            "width": 0.5
                          },
                          "pattern": {
                            "fillmode": "overlay",
                            "size": 10,
                            "solidity": 0.2
                          }
                        },
                        "type": "bar"
                      }
                    ],
                    "barpolar": [
                      {
                        "marker": {
                          "line": {
                            "color": "#E5ECF6",
                            "width": 0.5
                          },
                          "pattern": {
                            "fillmode": "overlay",
                            "size": 10,
                            "solidity": 0.2
                          }
                        },
                        "type": "barpolar"
                      }
                    ],
                    "carpet": [
                      {
                        "aaxis": {
                          "endlinecolor": "#2a3f5f",
                          "gridcolor": "white",
                          "linecolor": "white",
                          "minorgridcolor": "white",
                          "startlinecolor": "#2a3f5f"
                        },
                        "baxis": {
                          "endlinecolor": "#2a3f5f",
                          "gridcolor": "white",
                          "linecolor": "white",
                          "minorgridcolor": "white",
                          "startlinecolor": "#2a3f5f"
                        },
                        "type": "carpet"
                      }
                    ],
                    "choropleth": [
                      {
                        "colorbar": {
                          "outlinewidth": 0,
                          "ticks": ""
                        },
                        "type": "choropleth"
                      }
                    ],
                    "contour": [
                      {
                        "colorbar": {
                          "outlinewidth": 0,
                          "ticks": ""
                        },
                        "colorscale": [
                          [
                            0,
                            "#0d0887"
                          ],
                          [
                            0.1111111111111111,
                            "#46039f"
                          ],
                          [
                            0.2222222222222222,
                            "#7201a8"
                          ],
                          [
                            0.3333333333333333,
                            "#9c179e"
                          ],
                          [
                            0.4444444444444444,
                            "#bd3786"
                          ],
                          [
                            0.5555555555555556,
                            "#d8576b"
                          ],
                          [
                            0.6666666666666666,
                            "#ed7953"
                          ],
                          [
                            0.7777777777777778,
                            "#fb9f3a"
                          ],
                          [
                            0.8888888888888888,
                            "#fdca26"
                          ],
                          [
                            1,
                            "#f0f921"
                          ]
                        ],
                        "type": "contour"
                      }
                    ],
                    "contourcarpet": [
                      {
                        "colorbar": {
                          "outlinewidth": 0,
                          "ticks": ""
                        },
                        "type": "contourcarpet"
                      }
                    ],
                    "heatmap": [
                      {
                        "colorbar": {
                          "outlinewidth": 0,
                          "ticks": ""
                        },
                        "colorscale": [
                          [
                            0,
                            "#0d0887"
                          ],
                          [
                            0.1111111111111111,
                            "#46039f"
                          ],
                          [
                            0.2222222222222222,
                            "#7201a8"
                          ],
                          [
                            0.3333333333333333,
                            "#9c179e"
                          ],
                          [
                            0.4444444444444444,
                            "#bd3786"
                          ],
                          [
                            0.5555555555555556,
                            "#d8576b"
                          ],
                          [
                            0.6666666666666666,
                            "#ed7953"
                          ],
                          [
                            0.7777777777777778,
                            "#fb9f3a"
                          ],
                          [
                            0.8888888888888888,
                            "#fdca26"
                          ],
                          [
                            1,
                            "#f0f921"
                          ]
                        ],
                        "type": "heatmap"
                      }
                    ],
                    "heatmapgl": [
                      {
                        "colorbar": {
                          "outlinewidth": 0,
                          "ticks": ""
                        },
                        "colorscale": [
                          [
                            0,
                            "#0d0887"
                          ],
                          [
                            0.1111111111111111,
                            "#46039f"
                          ],
                          [
                            0.2222222222222222,
                            "#7201a8"
                          ],
                          [
                            0.3333333333333333,
                            "#9c179e"
                          ],
                          [
                            0.4444444444444444,
                            "#bd3786"
                          ],
                          [
                            0.5555555555555556,
                            "#d8576b"
                          ],
                          [
                            0.6666666666666666,
                            "#ed7953"
                          ],
                          [
                            0.7777777777777778,
                            "#fb9f3a"
                          ],
                          [
                            0.8888888888888888,
                            "#fdca26"
                          ],
                          [
                            1,
                            "#f0f921"
                          ]
                        ],
                        "type": "heatmapgl"
                      }
                    ],
                    "histogram": [
                      {
                        "marker": {
                          "pattern": {
                            "fillmode": "overlay",
                            "size": 10,
                            "solidity": 0.2
                          }
                        },
                        "type": "histogram"
                      }
                    ],
                    "histogram2d": [
                      {
                        "colorbar": {
                          "outlinewidth": 0,
                          "ticks": ""
                        },
                        "colorscale": [
                          [
                            0,
                            "#0d0887"
                          ],
                          [
                            0.1111111111111111,
                            "#46039f"
                          ],
                          [
                            0.2222222222222222,
                            "#7201a8"
                          ],
                          [
                            0.3333333333333333,
                            "#9c179e"
                          ],
                          [
                            0.4444444444444444,
                            "#bd3786"
                          ],
                          [
                            0.5555555555555556,
                            "#d8576b"
                          ],
                          [
                            0.6666666666666666,
                            "#ed7953"
                          ],
                          [
                            0.7777777777777778,
                            "#fb9f3a"
                          ],
                          [
                            0.8888888888888888,
                            "#fdca26"
                          ],
                          [
                            1,
                            "#f0f921"
                          ]
                        ],
                        "type": "histogram2d"
                      }
                    ],
                    "histogram2dcontour": [
                      {
                        "colorbar": {
                          "outlinewidth": 0,
                          "ticks": ""
                        },
                        "colorscale": [
                          [
                            0,
                            "#0d0887"
                          ],
                          [
                            0.1111111111111111,
                            "#46039f"
                          ],
                          [
                            0.2222222222222222,
                            "#7201a8"
                          ],
                          [
                            0.3333333333333333,
                            "#9c179e"
                          ],
                          [
                            0.4444444444444444,
                            "#bd3786"
                          ],
                          [
                            0.5555555555555556,
                            "#d8576b"
                          ],
                          [
                            0.6666666666666666,
                            "#ed7953"
                          ],
                          [
                            0.7777777777777778,
                            "#fb9f3a"
                          ],
                          [
                            0.8888888888888888,
                            "#fdca26"
                          ],
                          [
                            1,
                            "#f0f921"
                          ]
                        ],
                        "type": "histogram2dcontour"
                      }
                    ],
                    "mesh3d": [
                      {
                        "colorbar": {
                          "outlinewidth": 0,
                          "ticks": ""
                        },
                        "type": "mesh3d"
                      }
                    ],
                    "parcoords": [
                      {
                        "line": {
                          "colorbar": {
                            "outlinewidth": 0,
                            "ticks": ""
                          }
                        },
                        "type": "parcoords"
                      }
                    ],
                    "pie": [
                      {
                        "automargin": true,
                        "type": "pie"
                      }
                    ],
                    "scatter": [
                      {
                        "fillpattern": {
                          "fillmode": "overlay",
                          "size": 10,
                          "solidity": 0.2
                        },
                        "type": "scatter"
                      }
                    ],
                    "scatter3d": [
                      {
                        "line": {
                          "colorbar": {
                            "outlinewidth": 0,
                            "ticks": ""
                          }
                        },
                        "marker": {
                          "colorbar": {
                            "outlinewidth": 0,
                            "ticks": ""
                          }
                        },
                        "type": "scatter3d"
                      }
                    ],
                    "scattercarpet": [
                      {
                        "marker": {
                          "colorbar": {
                            "outlinewidth": 0,
                            "ticks": ""
                          }
                        },
                        "type": "scattercarpet"
                      }
                    ],
                    "scattergeo": [
                      {
                        "marker": {
                          "colorbar": {
                            "outlinewidth": 0,
                            "ticks": ""
                          }
                        },
                        "type": "scattergeo"
                      }
                    ],
                    "scattergl": [
                      {
                        "marker": {
                          "colorbar": {
                            "outlinewidth": 0,
                            "ticks": ""
                          }
                        },
                        "type": "scattergl"
                      }
                    ],
                    "scattermapbox": [
                      {
                        "marker": {
                          "colorbar": {
                            "outlinewidth": 0,
                            "ticks": ""
                          }
                        },
                        "type": "scattermapbox"
                      }
                    ],
                    "scatterpolar": [
                      {
                        "marker": {
                          "colorbar": {
                            "outlinewidth": 0,
                            "ticks": ""
                          }
                        },
                        "type": "scatterpolar"
                      }
                    ],
                    "scatterpolargl": [
                      {
                        "marker": {
                          "colorbar": {
                            "outlinewidth": 0,
                            "ticks": ""
                          }
                        },
                        "type": "scatterpolargl"
                      }
                    ],
                    "scatterternary": [
                      {
                        "marker": {
                          "colorbar": {
                            "outlinewidth": 0,
                            "ticks": ""
                          }
                        },
                        "type": "scatterternary"
                      }
                    ],
                    "surface": [
                      {
                        "colorbar": {
                          "outlinewidth": 0,
                          "ticks": ""
                        },
                        "colorscale": [
                          [
                            0,
                            "#0d0887"
                          ],
                          [
                            0.1111111111111111,
                            "#46039f"
                          ],
                          [
                            0.2222222222222222,
                            "#7201a8"
                          ],
                          [
                            0.3333333333333333,
                            "#9c179e"
                          ],
                          [
                            0.4444444444444444,
                            "#bd3786"
                          ],
                          [
                            0.5555555555555556,
                            "#d8576b"
                          ],
                          [
                            0.6666666666666666,
                            "#ed7953"
                          ],
                          [
                            0.7777777777777778,
                            "#fb9f3a"
                          ],
                          [
                            0.8888888888888888,
                            "#fdca26"
                          ],
                          [
                            1,
                            "#f0f921"
                          ]
                        ],
                        "type": "surface"
                      }
                    ],
                    "table": [
                      {
                        "cells": {
                          "fill": {
                            "color": "#EBF0F8"
                          },
                          "line": {
                            "color": "white"
                          }
                        },
                        "header": {
                          "fill": {
                            "color": "#C8D4E3"
                          },
                          "line": {
                            "color": "white"
                          }
                        },
                        "type": "table"
                      }
                    ]
                  },
                  "layout": {
                    "annotationdefaults": {
                      "arrowcolor": "#2a3f5f",
                      "arrowhead": 0,
                      "arrowwidth": 1
                    },
                    "autotypenumbers": "strict",
                    "coloraxis": {
                      "colorbar": {
                        "outlinewidth": 0,
                        "ticks": ""
                      }
                    },
                    "colorscale": {
                      "diverging": [
                        [
                          0,
                          "#8e0152"
                        ],
                        [
                          0.1,
                          "#c51b7d"
                        ],
                        [
                          0.2,
                          "#de77ae"
                        ],
                        [
                          0.3,
                          "#f1b6da"
                        ],
                        [
                          0.4,
                          "#fde0ef"
                        ],
                        [
                          0.5,
                          "#f7f7f7"
                        ],
                        [
                          0.6,
                          "#e6f5d0"
                        ],
                        [
                          0.7,
                          "#b8e186"
                        ],
                        [
                          0.8,
                          "#7fbc41"
                        ],
                        [
                          0.9,
                          "#4d9221"
                        ],
                        [
                          1,
                          "#276419"
                        ]
                      ],
                      "sequential": [
                        [
                          0,
                          "#0d0887"
                        ],
                        [
                          0.1111111111111111,
                          "#46039f"
                        ],
                        [
                          0.2222222222222222,
                          "#7201a8"
                        ],
                        [
                          0.3333333333333333,
                          "#9c179e"
                        ],
                        [
                          0.4444444444444444,
                          "#bd3786"
                        ],
                        [
                          0.5555555555555556,
                          "#d8576b"
                        ],
                        [
                          0.6666666666666666,
                          "#ed7953"
                        ],
                        [
                          0.7777777777777778,
                          "#fb9f3a"
                        ],
                        [
                          0.8888888888888888,
                          "#fdca26"
                        ],
                        [
                          1,
                          "#f0f921"
                        ]
                      ],
                      "sequentialminus": [
                        [
                          0,
                          "#0d0887"
                        ],
                        [
                          0.1111111111111111,
                          "#46039f"
                        ],
                        [
                          0.2222222222222222,
                          "#7201a8"
                        ],
                        [
                          0.3333333333333333,
                          "#9c179e"
                        ],
                        [
                          0.4444444444444444,
                          "#bd3786"
                        ],
                        [
                          0.5555555555555556,
                          "#d8576b"
                        ],
                        [
                          0.6666666666666666,
                          "#ed7953"
                        ],
                        [
                          0.7777777777777778,
                          "#fb9f3a"
                        ],
                        [
                          0.8888888888888888,
                          "#fdca26"
                        ],
                        [
                          1,
                          "#f0f921"
                        ]
                      ]
                    },
                    "colorway": [
                      "#636efa",
                      "#EF553B",
                      "#00cc96",
                      "#ab63fa",
                      "#FFA15A",
                      "#19d3f3",
                      "#FF6692",
                      "#B6E880",
                      "#FF97FF",
                      "#FECB52"
                    ],
                    "font": {
                      "color": "#2a3f5f"
                    },
                    "geo": {
                      "bgcolor": "white",
                      "lakecolor": "white",
                      "landcolor": "#E5ECF6",
                      "showlakes": true,
                      "showland": true,
                      "subunitcolor": "white"
                    },
                    "hoverlabel": {
                      "align": "left"
                    },
                    "hovermode": "closest",
                    "mapbox": {
                      "style": "light"
                    },
                    "paper_bgcolor": "white",
                    "plot_bgcolor": "#E5ECF6",
                    "polar": {
                      "angularaxis": {
                        "gridcolor": "white",
                        "linecolor": "white",
                        "ticks": ""
                      },
                      "bgcolor": "#E5ECF6",
                      "radialaxis": {
                        "gridcolor": "white",
                        "linecolor": "white",
                        "ticks": ""
                      }
                    },
                    "scene": {
                      "xaxis": {
                        "backgroundcolor": "#E5ECF6",
                        "gridcolor": "white",
                        "gridwidth": 2,
                        "linecolor": "white",
                        "showbackground": true,
                        "ticks": "",
                        "zerolinecolor": "white"
                      },
                      "yaxis": {
                        "backgroundcolor": "#E5ECF6",
                        "gridcolor": "white",
                        "gridwidth": 2,
                        "linecolor": "white",
                        "showbackground": true,
                        "ticks": "",
                        "zerolinecolor": "white"
                      },
                      "zaxis": {
                        "backgroundcolor": "#E5ECF6",
                        "gridcolor": "white",
                        "gridwidth": 2,
                        "linecolor": "white",
                        "showbackground": true,
                        "ticks": "",
                        "zerolinecolor": "white"
                      }
                    },
                    "shapedefaults": {
                      "line": {
                        "color": "#2a3f5f"
                      }
                    },
                    "ternary": {
                      "aaxis": {
                        "gridcolor": "white",
                        "linecolor": "white",
                        "ticks": ""
                      },
                      "baxis": {
                        "gridcolor": "white",
                        "linecolor": "white",
                        "ticks": ""
                      },
                      "bgcolor": "#E5ECF6",
                      "caxis": {
                        "gridcolor": "white",
                        "linecolor": "white",
                        "ticks": ""
                      }
                    },
                    "title": {
                      "x": 0.05
                    },
                    "xaxis": {
                      "automargin": true,
                      "gridcolor": "white",
                      "linecolor": "white",
                      "ticks": "",
                      "title": {
                        "standoff": 15
                      },
                      "zerolinecolor": "white",
                      "zerolinewidth": 2
                    },
                    "yaxis": {
                      "automargin": true,
                      "gridcolor": "white",
                      "linecolor": "white",
                      "ticks": "",
                      "title": {
                        "standoff": 15
                      },
                      "zerolinecolor": "white",
                      "zerolinewidth": 2
                    }
                  }
                },
                "title": {
                  "text": "Parallel Coordinate Plot"
                }
              }
            }
          },
          "metadata": {},
          "output_type": "display_data"
        }
      ],
      "source": [
        "# 2. Gráfico de coordenadas paralelas ------------------------------------------------------\n",
        "plot_parallel_coordinate(study_prunning)"
      ]
    },
    {
      "cell_type": "code",
      "execution_count": 11,
      "metadata": {},
      "outputs": [
        {
          "data": {
            "application/vnd.plotly.v1+json": {
              "config": {
                "plotlyServerURL": "https://plot.ly"
              },
              "data": [
                {
                  "cliponaxis": false,
                  "hovertemplate": [
                    "min_child_weight (IntDistribution): 0.003076354905734835<extra></extra>",
                    "max_leaves (IntDistribution): 0.008971584954396296<extra></extra>",
                    "reg_lambda (FloatDistribution): 0.02310149382374597<extra></extra>",
                    "reg_alpha (FloatDistribution): 0.03962688551199521<extra></extra>",
                    "n_estimators (IntDistribution): 0.06429100379986662<extra></extra>",
                    "max_depth (IntDistribution): 0.08918989170707918<extra></extra>",
                    "learning_rate (FloatDistribution): 0.15615667215541806<extra></extra>",
                    "min_frequency (FloatDistribution): 0.6155861131417638<extra></extra>"
                  ],
                  "name": "Objective Value",
                  "orientation": "h",
                  "text": [
                    "<0.01",
                    "<0.01",
                    "0.02",
                    "0.04",
                    "0.06",
                    "0.09",
                    "0.16",
                    "0.62"
                  ],
                  "textposition": "outside",
                  "type": "bar",
                  "x": [
                    0.003076354905734835,
                    0.008971584954396296,
                    0.02310149382374597,
                    0.03962688551199521,
                    0.06429100379986662,
                    0.08918989170707918,
                    0.15615667215541806,
                    0.6155861131417638
                  ],
                  "y": [
                    "min_child_weight",
                    "max_leaves",
                    "reg_lambda",
                    "reg_alpha",
                    "n_estimators",
                    "max_depth",
                    "learning_rate",
                    "min_frequency"
                  ]
                }
              ],
              "layout": {
                "template": {
                  "data": {
                    "bar": [
                      {
                        "error_x": {
                          "color": "#2a3f5f"
                        },
                        "error_y": {
                          "color": "#2a3f5f"
                        },
                        "marker": {
                          "line": {
                            "color": "#E5ECF6",
                            "width": 0.5
                          },
                          "pattern": {
                            "fillmode": "overlay",
                            "size": 10,
                            "solidity": 0.2
                          }
                        },
                        "type": "bar"
                      }
                    ],
                    "barpolar": [
                      {
                        "marker": {
                          "line": {
                            "color": "#E5ECF6",
                            "width": 0.5
                          },
                          "pattern": {
                            "fillmode": "overlay",
                            "size": 10,
                            "solidity": 0.2
                          }
                        },
                        "type": "barpolar"
                      }
                    ],
                    "carpet": [
                      {
                        "aaxis": {
                          "endlinecolor": "#2a3f5f",
                          "gridcolor": "white",
                          "linecolor": "white",
                          "minorgridcolor": "white",
                          "startlinecolor": "#2a3f5f"
                        },
                        "baxis": {
                          "endlinecolor": "#2a3f5f",
                          "gridcolor": "white",
                          "linecolor": "white",
                          "minorgridcolor": "white",
                          "startlinecolor": "#2a3f5f"
                        },
                        "type": "carpet"
                      }
                    ],
                    "choropleth": [
                      {
                        "colorbar": {
                          "outlinewidth": 0,
                          "ticks": ""
                        },
                        "type": "choropleth"
                      }
                    ],
                    "contour": [
                      {
                        "colorbar": {
                          "outlinewidth": 0,
                          "ticks": ""
                        },
                        "colorscale": [
                          [
                            0,
                            "#0d0887"
                          ],
                          [
                            0.1111111111111111,
                            "#46039f"
                          ],
                          [
                            0.2222222222222222,
                            "#7201a8"
                          ],
                          [
                            0.3333333333333333,
                            "#9c179e"
                          ],
                          [
                            0.4444444444444444,
                            "#bd3786"
                          ],
                          [
                            0.5555555555555556,
                            "#d8576b"
                          ],
                          [
                            0.6666666666666666,
                            "#ed7953"
                          ],
                          [
                            0.7777777777777778,
                            "#fb9f3a"
                          ],
                          [
                            0.8888888888888888,
                            "#fdca26"
                          ],
                          [
                            1,
                            "#f0f921"
                          ]
                        ],
                        "type": "contour"
                      }
                    ],
                    "contourcarpet": [
                      {
                        "colorbar": {
                          "outlinewidth": 0,
                          "ticks": ""
                        },
                        "type": "contourcarpet"
                      }
                    ],
                    "heatmap": [
                      {
                        "colorbar": {
                          "outlinewidth": 0,
                          "ticks": ""
                        },
                        "colorscale": [
                          [
                            0,
                            "#0d0887"
                          ],
                          [
                            0.1111111111111111,
                            "#46039f"
                          ],
                          [
                            0.2222222222222222,
                            "#7201a8"
                          ],
                          [
                            0.3333333333333333,
                            "#9c179e"
                          ],
                          [
                            0.4444444444444444,
                            "#bd3786"
                          ],
                          [
                            0.5555555555555556,
                            "#d8576b"
                          ],
                          [
                            0.6666666666666666,
                            "#ed7953"
                          ],
                          [
                            0.7777777777777778,
                            "#fb9f3a"
                          ],
                          [
                            0.8888888888888888,
                            "#fdca26"
                          ],
                          [
                            1,
                            "#f0f921"
                          ]
                        ],
                        "type": "heatmap"
                      }
                    ],
                    "heatmapgl": [
                      {
                        "colorbar": {
                          "outlinewidth": 0,
                          "ticks": ""
                        },
                        "colorscale": [
                          [
                            0,
                            "#0d0887"
                          ],
                          [
                            0.1111111111111111,
                            "#46039f"
                          ],
                          [
                            0.2222222222222222,
                            "#7201a8"
                          ],
                          [
                            0.3333333333333333,
                            "#9c179e"
                          ],
                          [
                            0.4444444444444444,
                            "#bd3786"
                          ],
                          [
                            0.5555555555555556,
                            "#d8576b"
                          ],
                          [
                            0.6666666666666666,
                            "#ed7953"
                          ],
                          [
                            0.7777777777777778,
                            "#fb9f3a"
                          ],
                          [
                            0.8888888888888888,
                            "#fdca26"
                          ],
                          [
                            1,
                            "#f0f921"
                          ]
                        ],
                        "type": "heatmapgl"
                      }
                    ],
                    "histogram": [
                      {
                        "marker": {
                          "pattern": {
                            "fillmode": "overlay",
                            "size": 10,
                            "solidity": 0.2
                          }
                        },
                        "type": "histogram"
                      }
                    ],
                    "histogram2d": [
                      {
                        "colorbar": {
                          "outlinewidth": 0,
                          "ticks": ""
                        },
                        "colorscale": [
                          [
                            0,
                            "#0d0887"
                          ],
                          [
                            0.1111111111111111,
                            "#46039f"
                          ],
                          [
                            0.2222222222222222,
                            "#7201a8"
                          ],
                          [
                            0.3333333333333333,
                            "#9c179e"
                          ],
                          [
                            0.4444444444444444,
                            "#bd3786"
                          ],
                          [
                            0.5555555555555556,
                            "#d8576b"
                          ],
                          [
                            0.6666666666666666,
                            "#ed7953"
                          ],
                          [
                            0.7777777777777778,
                            "#fb9f3a"
                          ],
                          [
                            0.8888888888888888,
                            "#fdca26"
                          ],
                          [
                            1,
                            "#f0f921"
                          ]
                        ],
                        "type": "histogram2d"
                      }
                    ],
                    "histogram2dcontour": [
                      {
                        "colorbar": {
                          "outlinewidth": 0,
                          "ticks": ""
                        },
                        "colorscale": [
                          [
                            0,
                            "#0d0887"
                          ],
                          [
                            0.1111111111111111,
                            "#46039f"
                          ],
                          [
                            0.2222222222222222,
                            "#7201a8"
                          ],
                          [
                            0.3333333333333333,
                            "#9c179e"
                          ],
                          [
                            0.4444444444444444,
                            "#bd3786"
                          ],
                          [
                            0.5555555555555556,
                            "#d8576b"
                          ],
                          [
                            0.6666666666666666,
                            "#ed7953"
                          ],
                          [
                            0.7777777777777778,
                            "#fb9f3a"
                          ],
                          [
                            0.8888888888888888,
                            "#fdca26"
                          ],
                          [
                            1,
                            "#f0f921"
                          ]
                        ],
                        "type": "histogram2dcontour"
                      }
                    ],
                    "mesh3d": [
                      {
                        "colorbar": {
                          "outlinewidth": 0,
                          "ticks": ""
                        },
                        "type": "mesh3d"
                      }
                    ],
                    "parcoords": [
                      {
                        "line": {
                          "colorbar": {
                            "outlinewidth": 0,
                            "ticks": ""
                          }
                        },
                        "type": "parcoords"
                      }
                    ],
                    "pie": [
                      {
                        "automargin": true,
                        "type": "pie"
                      }
                    ],
                    "scatter": [
                      {
                        "fillpattern": {
                          "fillmode": "overlay",
                          "size": 10,
                          "solidity": 0.2
                        },
                        "type": "scatter"
                      }
                    ],
                    "scatter3d": [
                      {
                        "line": {
                          "colorbar": {
                            "outlinewidth": 0,
                            "ticks": ""
                          }
                        },
                        "marker": {
                          "colorbar": {
                            "outlinewidth": 0,
                            "ticks": ""
                          }
                        },
                        "type": "scatter3d"
                      }
                    ],
                    "scattercarpet": [
                      {
                        "marker": {
                          "colorbar": {
                            "outlinewidth": 0,
                            "ticks": ""
                          }
                        },
                        "type": "scattercarpet"
                      }
                    ],
                    "scattergeo": [
                      {
                        "marker": {
                          "colorbar": {
                            "outlinewidth": 0,
                            "ticks": ""
                          }
                        },
                        "type": "scattergeo"
                      }
                    ],
                    "scattergl": [
                      {
                        "marker": {
                          "colorbar": {
                            "outlinewidth": 0,
                            "ticks": ""
                          }
                        },
                        "type": "scattergl"
                      }
                    ],
                    "scattermapbox": [
                      {
                        "marker": {
                          "colorbar": {
                            "outlinewidth": 0,
                            "ticks": ""
                          }
                        },
                        "type": "scattermapbox"
                      }
                    ],
                    "scatterpolar": [
                      {
                        "marker": {
                          "colorbar": {
                            "outlinewidth": 0,
                            "ticks": ""
                          }
                        },
                        "type": "scatterpolar"
                      }
                    ],
                    "scatterpolargl": [
                      {
                        "marker": {
                          "colorbar": {
                            "outlinewidth": 0,
                            "ticks": ""
                          }
                        },
                        "type": "scatterpolargl"
                      }
                    ],
                    "scatterternary": [
                      {
                        "marker": {
                          "colorbar": {
                            "outlinewidth": 0,
                            "ticks": ""
                          }
                        },
                        "type": "scatterternary"
                      }
                    ],
                    "surface": [
                      {
                        "colorbar": {
                          "outlinewidth": 0,
                          "ticks": ""
                        },
                        "colorscale": [
                          [
                            0,
                            "#0d0887"
                          ],
                          [
                            0.1111111111111111,
                            "#46039f"
                          ],
                          [
                            0.2222222222222222,
                            "#7201a8"
                          ],
                          [
                            0.3333333333333333,
                            "#9c179e"
                          ],
                          [
                            0.4444444444444444,
                            "#bd3786"
                          ],
                          [
                            0.5555555555555556,
                            "#d8576b"
                          ],
                          [
                            0.6666666666666666,
                            "#ed7953"
                          ],
                          [
                            0.7777777777777778,
                            "#fb9f3a"
                          ],
                          [
                            0.8888888888888888,
                            "#fdca26"
                          ],
                          [
                            1,
                            "#f0f921"
                          ]
                        ],
                        "type": "surface"
                      }
                    ],
                    "table": [
                      {
                        "cells": {
                          "fill": {
                            "color": "#EBF0F8"
                          },
                          "line": {
                            "color": "white"
                          }
                        },
                        "header": {
                          "fill": {
                            "color": "#C8D4E3"
                          },
                          "line": {
                            "color": "white"
                          }
                        },
                        "type": "table"
                      }
                    ]
                  },
                  "layout": {
                    "annotationdefaults": {
                      "arrowcolor": "#2a3f5f",
                      "arrowhead": 0,
                      "arrowwidth": 1
                    },
                    "autotypenumbers": "strict",
                    "coloraxis": {
                      "colorbar": {
                        "outlinewidth": 0,
                        "ticks": ""
                      }
                    },
                    "colorscale": {
                      "diverging": [
                        [
                          0,
                          "#8e0152"
                        ],
                        [
                          0.1,
                          "#c51b7d"
                        ],
                        [
                          0.2,
                          "#de77ae"
                        ],
                        [
                          0.3,
                          "#f1b6da"
                        ],
                        [
                          0.4,
                          "#fde0ef"
                        ],
                        [
                          0.5,
                          "#f7f7f7"
                        ],
                        [
                          0.6,
                          "#e6f5d0"
                        ],
                        [
                          0.7,
                          "#b8e186"
                        ],
                        [
                          0.8,
                          "#7fbc41"
                        ],
                        [
                          0.9,
                          "#4d9221"
                        ],
                        [
                          1,
                          "#276419"
                        ]
                      ],
                      "sequential": [
                        [
                          0,
                          "#0d0887"
                        ],
                        [
                          0.1111111111111111,
                          "#46039f"
                        ],
                        [
                          0.2222222222222222,
                          "#7201a8"
                        ],
                        [
                          0.3333333333333333,
                          "#9c179e"
                        ],
                        [
                          0.4444444444444444,
                          "#bd3786"
                        ],
                        [
                          0.5555555555555556,
                          "#d8576b"
                        ],
                        [
                          0.6666666666666666,
                          "#ed7953"
                        ],
                        [
                          0.7777777777777778,
                          "#fb9f3a"
                        ],
                        [
                          0.8888888888888888,
                          "#fdca26"
                        ],
                        [
                          1,
                          "#f0f921"
                        ]
                      ],
                      "sequentialminus": [
                        [
                          0,
                          "#0d0887"
                        ],
                        [
                          0.1111111111111111,
                          "#46039f"
                        ],
                        [
                          0.2222222222222222,
                          "#7201a8"
                        ],
                        [
                          0.3333333333333333,
                          "#9c179e"
                        ],
                        [
                          0.4444444444444444,
                          "#bd3786"
                        ],
                        [
                          0.5555555555555556,
                          "#d8576b"
                        ],
                        [
                          0.6666666666666666,
                          "#ed7953"
                        ],
                        [
                          0.7777777777777778,
                          "#fb9f3a"
                        ],
                        [
                          0.8888888888888888,
                          "#fdca26"
                        ],
                        [
                          1,
                          "#f0f921"
                        ]
                      ]
                    },
                    "colorway": [
                      "#636efa",
                      "#EF553B",
                      "#00cc96",
                      "#ab63fa",
                      "#FFA15A",
                      "#19d3f3",
                      "#FF6692",
                      "#B6E880",
                      "#FF97FF",
                      "#FECB52"
                    ],
                    "font": {
                      "color": "#2a3f5f"
                    },
                    "geo": {
                      "bgcolor": "white",
                      "lakecolor": "white",
                      "landcolor": "#E5ECF6",
                      "showlakes": true,
                      "showland": true,
                      "subunitcolor": "white"
                    },
                    "hoverlabel": {
                      "align": "left"
                    },
                    "hovermode": "closest",
                    "mapbox": {
                      "style": "light"
                    },
                    "paper_bgcolor": "white",
                    "plot_bgcolor": "#E5ECF6",
                    "polar": {
                      "angularaxis": {
                        "gridcolor": "white",
                        "linecolor": "white",
                        "ticks": ""
                      },
                      "bgcolor": "#E5ECF6",
                      "radialaxis": {
                        "gridcolor": "white",
                        "linecolor": "white",
                        "ticks": ""
                      }
                    },
                    "scene": {
                      "xaxis": {
                        "backgroundcolor": "#E5ECF6",
                        "gridcolor": "white",
                        "gridwidth": 2,
                        "linecolor": "white",
                        "showbackground": true,
                        "ticks": "",
                        "zerolinecolor": "white"
                      },
                      "yaxis": {
                        "backgroundcolor": "#E5ECF6",
                        "gridcolor": "white",
                        "gridwidth": 2,
                        "linecolor": "white",
                        "showbackground": true,
                        "ticks": "",
                        "zerolinecolor": "white"
                      },
                      "zaxis": {
                        "backgroundcolor": "#E5ECF6",
                        "gridcolor": "white",
                        "gridwidth": 2,
                        "linecolor": "white",
                        "showbackground": true,
                        "ticks": "",
                        "zerolinecolor": "white"
                      }
                    },
                    "shapedefaults": {
                      "line": {
                        "color": "#2a3f5f"
                      }
                    },
                    "ternary": {
                      "aaxis": {
                        "gridcolor": "white",
                        "linecolor": "white",
                        "ticks": ""
                      },
                      "baxis": {
                        "gridcolor": "white",
                        "linecolor": "white",
                        "ticks": ""
                      },
                      "bgcolor": "#E5ECF6",
                      "caxis": {
                        "gridcolor": "white",
                        "linecolor": "white",
                        "ticks": ""
                      }
                    },
                    "title": {
                      "x": 0.05
                    },
                    "xaxis": {
                      "automargin": true,
                      "gridcolor": "white",
                      "linecolor": "white",
                      "ticks": "",
                      "title": {
                        "standoff": 15
                      },
                      "zerolinecolor": "white",
                      "zerolinewidth": 2
                    },
                    "yaxis": {
                      "automargin": true,
                      "gridcolor": "white",
                      "linecolor": "white",
                      "ticks": "",
                      "title": {
                        "standoff": 15
                      },
                      "zerolinecolor": "white",
                      "zerolinewidth": 2
                    }
                  }
                },
                "title": {
                  "text": "Hyperparameter Importances"
                },
                "xaxis": {
                  "title": {
                    "text": "Hyperparameter Importance"
                  }
                },
                "yaxis": {
                  "title": {
                    "text": "Hyperparameter"
                  }
                }
              }
            }
          },
          "metadata": {},
          "output_type": "display_data"
        }
      ],
      "source": [
        "# 3. Gráfico de importancia de hiperparámetros\n",
        "plot_param_importances(study_prunning)"
      ]
    },
    {
      "cell_type": "markdown",
      "metadata": {},
      "source": [
        "A partir del gráfico de historial de optimización notamos que el valor best_value correspondiente al mejor mínimo del MAE registrado es actualizado en 3 trials especificos de forma significativa, el primero inmediatamente luego de la primera iteración donde se actualiza a 7250, el segundo en la iteración 13 donde se actualiza a 6601.\n",
        "\n",
        "A partir del gráfico de coordenadas paralelas permite notar ciertas \"cotas\" dentro del rango de optimización explorado, en particular, aquellos valores que presentan una concentración mayor de enlaces, presenta un rendimiento \"mejor\" del modelo en relación a la minimización del MAE. Con lo anterior, se podría ir reduciendo el rango de optimización de los paramétros gracias a estas cotas, \"acercandonos\" cada vez mas a la convergencia del óptimo y aprovechando los recursos en iteraciones con grillas de parámetros que son mas probables de tener un mejor rendimiento del modelo final.\n",
        "\n",
        "Entre algunas observaciones, se tiene que:\n",
        "-  El rango de learning_rate estaría acotado por 0.08 y 0.09 y no entre 0.001 y 0.1 como se indico inicialmente como rango de exploración.\n",
        "-  El rango de max_depth no se aprecia acotado significativamente por lo que el rango de exploración inicial sería adecuado.\n",
        "-  El rango de max_leaves tiende a estar acotado entre 50 y 100 y no 0 y 100 como se indico inicialmente como rango de exploración.\n",
        "-  El rango de min_child_weight esta acotado entre 1 y 3 y no entre 1 y 5 como se indico inicialmente como rango de exploración.\n",
        "-   El rango de min_frequency estaría acotado por 0.1 y 0.2 y no entre 0.1 y 1 como se indico inicialmente como rango de exploración.\n",
        "-   El rango de n_estimators estaría acotado por 50 y 800 y no entre 50 y 1000 como se indico inicialmente como rango de exploración.\n",
        "- El rango de reg_alpha estaría acotado por 0.8 y 0.9 y no 0 y 1 como se indico inicialmente en el rango de exploración.\n",
        "- El rango de reg_lambda no se aprecia acotado significativamente por lo que el rango de exploración inicial sería adecuado.\n",
        "\n",
        "A partir del gráfico de importancia de hiperparámetros notamos que el parámetro de min_frequency es aquel que tiene una importancia relativa cercana al 68% en el rendimiento del modelo seguido por el parámetro de learning_rate con una importancia relativa de 22% aproximadamente. Por lo tanto, la optimización de estos dos parámetros principales es crucial para optimizar el valor del MAE. "
      ]
    },
    {
      "cell_type": "markdown",
      "metadata": {
        "cell_id": "ac8a20f445d045a3becf1a518d410a7d",
        "deepnote_cell_type": "markdown",
        "id": "EoW32TA9I5wA"
      },
      "source": [
        "## 6. Síntesis de resultados (0.3)\n",
        "\n",
        "Finalmente:\n",
        "\n",
        "1. Genere una tabla resumen del MAE obtenido en los 5 modelos entrenados desde Baseline hasta XGBoost con Constraints, Optuna y Prunning.\n",
        "2. Compare los resultados de la tabla y responda, ¿qué modelo obtiene el mejor rendimiento?\n",
        "3. Cargue el mejor modelo, prediga sobre el conjunto de **test** y reporte su MAE.\n",
        "4. ¿Existen diferencias con respecto a las métricas obtenidas en el conjunto de validación? ¿Porqué puede ocurrir esto?"
      ]
    },
    {
      "cell_type": "code",
      "execution_count": 12,
      "metadata": {
        "id": "jq5C6cDnJg9h"
      },
      "outputs": [
        {
          "data": {
            "text/html": [
              "<div>\n",
              "<style scoped>\n",
              "    .dataframe tbody tr th:only-of-type {\n",
              "        vertical-align: middle;\n",
              "    }\n",
              "\n",
              "    .dataframe tbody tr th {\n",
              "        vertical-align: top;\n",
              "    }\n",
              "\n",
              "    .dataframe thead th {\n",
              "        text-align: right;\n",
              "    }\n",
              "</style>\n",
              "<table border=\"1\" class=\"dataframe\">\n",
              "  <thead>\n",
              "    <tr style=\"text-align: right;\">\n",
              "      <th></th>\n",
              "      <th>Modelo</th>\n",
              "      <th>MAE Validación</th>\n",
              "    </tr>\n",
              "  </thead>\n",
              "  <tbody>\n",
              "    <tr>\n",
              "      <th>0</th>\n",
              "      <td>DummyRegressor:</td>\n",
              "      <td>13576.566991</td>\n",
              "    </tr>\n",
              "    <tr>\n",
              "      <th>1</th>\n",
              "      <td>XGBRegressor</td>\n",
              "      <td>7012.852411</td>\n",
              "    </tr>\n",
              "    <tr>\n",
              "      <th>2</th>\n",
              "      <td>XGBRegressor con restriccion</td>\n",
              "      <td>7367.636682</td>\n",
              "    </tr>\n",
              "    <tr>\n",
              "      <th>3</th>\n",
              "      <td>XGBRegressor con optuna</td>\n",
              "      <td>6469.700953</td>\n",
              "    </tr>\n",
              "    <tr>\n",
              "      <th>4</th>\n",
              "      <td>XGBRegressor con optuna y prunning</td>\n",
              "      <td>6512.389084</td>\n",
              "    </tr>\n",
              "  </tbody>\n",
              "</table>\n",
              "</div>"
            ],
            "text/plain": [
              "                               Modelo  MAE Validación\n",
              "0                     DummyRegressor:    13576.566991\n",
              "1                        XGBRegressor     7012.852411\n",
              "2        XGBRegressor con restriccion     7367.636682\n",
              "3             XGBRegressor con optuna     6469.700953\n",
              "4  XGBRegressor con optuna y prunning     6512.389084"
            ]
          },
          "execution_count": 12,
          "metadata": {},
          "output_type": "execute_result"
        }
      ],
      "source": [
        "# df resultados\n",
        "resultados = pd.DataFrame({\"Modelo\":[\"DummyRegressor:\",\"XGBRegressor\",\"XGBRegressor con restriccion\",\"XGBRegressor con optuna\",\"XGBRegressor con optuna y prunning\"],\n",
        "                            \"MAE Validación\":[MAE_val_dummyregressor, MAE_val_xgbregressor, MAE_val_xgbregressor_ct, MAE_val_xgbregressor_opt, MAE_val_xgbregressor_opt_prunning]})\n",
        "\n",
        "resultados"
      ]
    },
    {
      "cell_type": "markdown",
      "metadata": {},
      "source": [
        "A partir de lo anterior, notamos que el modelo con mejor rendimiento es el modelo con XGBRegressor utilizando optimización de parámetros (Sin prunning) con un MAE de 6464.\n",
        "\n"
      ]
    },
    {
      "cell_type": "code",
      "execution_count": 13,
      "metadata": {},
      "outputs": [
        {
          "name": "stdout",
          "output_type": "stream",
          "text": [
            "MAE en partición de test (XGBRegressor con optimización de parámetros): 6688.591937599489\n"
          ]
        }
      ],
      "source": [
        "# Definición de columntransformer para preprocesamiento\n",
        "preprocessor = ColumnTransformer([\n",
        "    ('Numerical_cols', PowerTransformer(), numerical_cols),\n",
        "    ('Categorical_cols', OneHotEncoder(sparse_output=True), categorical_cols)])\n",
        "\n",
        "# Definicion de pipeline con preprocesamiento y XGBRegressor\n",
        "pipeline_to_optimize = Pipeline([\n",
        "    # Implementación de FuncionTransformer en columna 'date'\n",
        "    ('Transform_date', FunctionTransformer(transform_date)),\n",
        "    # Implementación de ColumnTransformer en columnas numericas y categoricas\n",
        "    ('Preprocessor', preprocessor),\n",
        "    # Implementación de FunctionTransformer para transformar el output a df\n",
        "    ('Convert_df', FunctionTransformer(\n",
        "        lambda X: pd.DataFrame(X, columns=numerical_cols + preprocessor.transformers_[1][1].get_feature_names_out().tolist())))\n",
        "])\n",
        "\n",
        "# Entrenar el preprocesador con todos los datos de entrenamiento\n",
        "pipeline_to_optimize.fit(X_train.append(X_val))\n",
        "\n",
        "# Transformar X_train y X_test\n",
        "X_train_transformed = pipeline_to_optimize.transform(X_train)\n",
        "X_test_transformed = pipeline_to_optimize.transform(X_test)\n",
        "\n",
        "# Entrenar el modelo con todos los datos de entrenamiento\n",
        "model = XGBRegressor(seed=42, eval_metric='mae', **study.best_params)\n",
        "model.fit(X_train_transformed, Y_train)\n",
        "\n",
        "# Realizar predicciones en X_test\n",
        "Y_test_preds = model.predict(X_test_transformed)\n",
        "\n",
        "# Calcular MAE en X_test\n",
        "MAE_test = mean_absolute_error(Y_test, Y_test_preds)\n",
        "print(f'MAE en partición de test (XGBRegressor con optimización de parámetros): {MAE_test}')\n",
        "\n"
      ]
    },
    {
      "cell_type": "markdown",
      "metadata": {},
      "source": [
        "Con lo anterior, se tiene que en la particion de testeo se obtuvo un MAE de 6764 bastante cercano al valor reportado en la particion de validación. Esta diferencia podría deberse a que los datos de validación no son representativos de los datos en testeo, ya sea por baja cantidad de datos o por distribuciones muy dispersas o directamente distintas."
      ]
    },
    {
      "cell_type": "markdown",
      "metadata": {
        "cell_id": "5c4654d12037494fbd385b4dc6bd1059",
        "deepnote_cell_type": "markdown",
        "id": "E_19tgBEI5wA"
      },
      "source": [
        "# Conclusión\n",
        "Eso ha sido todo para el lab de hoy, recuerden que el laboratorio tiene un plazo de entrega de una semana. Cualquier duda del laboratorio, no duden en contactarnos por mail o U-cursos.\n",
        "\n",
        "<p align=\"center\">\n",
        "  <img src=\"https://media.tenor.com/8CT1AXElF_cAAAAC/gojo-satoru.gif\">\n",
        "</p>"
      ]
    },
    {
      "cell_type": "markdown",
      "metadata": {
        "cell_id": "5025de06759f4903a26916c80323bf25",
        "deepnote_cell_type": "markdown",
        "id": "Kq2cFix1I5wA"
      },
      "source": []
    },
    {
      "cell_type": "markdown",
      "metadata": {
        "created_in_deepnote_cell": true,
        "deepnote_cell_type": "markdown",
        "id": "rAp9UxwiI5wA"
      },
      "source": [
        "<a style='text-decoration:none;line-height:16px;display:flex;color:#5B5B62;padding:10px;justify-content:end;' href='https://deepnote.com?utm_source=created-in-deepnote-cell&projectId=87110296-876e-426f-b91d-aaf681223468' target=\"_blank\">\n",
        "<img alt='Created in deepnote.com' style='display:inline;max-height:16px;margin:0px;margin-right:7.5px;' src='data:image/svg+xml;base64,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' > </img>\n",
        "Created in <span style='font-weight:600;margin-left:4px;'>Deepnote</span></a>"
      ]
    }
  ],
  "metadata": {
    "colab": {
      "provenance": []
    },
    "deepnote": {},
    "deepnote_execution_queue": [],
    "deepnote_notebook_id": "f63d38450a6b464c9bb6385cf11db4d9",
    "deepnote_persisted_session": {
      "createdAt": "2023-11-09T16:18:30.203Z"
    },
    "kernelspec": {
      "display_name": "base",
      "language": "python",
      "name": "python3"
    },
    "language_info": {
      "codemirror_mode": {
        "name": "ipython",
        "version": 3
      },
      "file_extension": ".py",
      "mimetype": "text/x-python",
      "name": "python",
      "nbconvert_exporter": "python",
      "pygments_lexer": "ipython3",
      "version": "3.11.5"
    }
  },
  "nbformat": 4,
  "nbformat_minor": 0
}
